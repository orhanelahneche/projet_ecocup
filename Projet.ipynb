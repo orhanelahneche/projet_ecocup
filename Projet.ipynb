{
 "cells": [
  {
   "cell_type": "markdown",
   "id": "a849db2b",
   "metadata": {},
   "source": [
    "# Script de récupération des annotions"
   ]
  },
  {
   "cell_type": "code",
   "execution_count": 1,
   "id": "e35faef8",
   "metadata": {},
   "outputs": [
    {
     "ename": "ModuleNotFoundError",
     "evalue": "No module named 'lxml'",
     "output_type": "error",
     "traceback": [
      "\u001b[1;31m---------------------------------------------------------------------------\u001b[0m",
      "\u001b[1;31mModuleNotFoundError\u001b[0m                       Traceback (most recent call last)",
      "\u001b[1;32mc:\\Users\\theot\\OneDrive\\UTC P22\\SY32\\projet_ecocup\\Projet.ipynb Cell 2'\u001b[0m in \u001b[0;36m<cell line: 3>\u001b[1;34m()\u001b[0m\n\u001b[0;32m      <a href='vscode-notebook-cell:/c%3A/Users/theot/OneDrive/UTC%20P22/SY32/projet_ecocup/Projet.ipynb#ch0000001?line=0'>1</a>\u001b[0m \u001b[39mimport\u001b[39;00m \u001b[39mos\u001b[39;00m\n\u001b[0;32m      <a href='vscode-notebook-cell:/c%3A/Users/theot/OneDrive/UTC%20P22/SY32/projet_ecocup/Projet.ipynb#ch0000001?line=1'>2</a>\u001b[0m \u001b[39mimport\u001b[39;00m \u001b[39mnumpy\u001b[39;00m \u001b[39mas\u001b[39;00m \u001b[39mnp\u001b[39;00m\n\u001b[1;32m----> <a href='vscode-notebook-cell:/c%3A/Users/theot/OneDrive/UTC%20P22/SY32/projet_ecocup/Projet.ipynb#ch0000001?line=2'>3</a>\u001b[0m \u001b[39mfrom\u001b[39;00m \u001b[39mlxml\u001b[39;00m \u001b[39mimport\u001b[39;00m etree\n\u001b[0;32m      <a href='vscode-notebook-cell:/c%3A/Users/theot/OneDrive/UTC%20P22/SY32/projet_ecocup/Projet.ipynb#ch0000001?line=4'>5</a>\u001b[0m labels \u001b[39m=\u001b[39m os\u001b[39m.\u001b[39mlistdir(\u001b[39m'\u001b[39m\u001b[39mtrain/labels\u001b[39m\u001b[39m'\u001b[39m)\n\u001b[0;32m      <a href='vscode-notebook-cell:/c%3A/Users/theot/OneDrive/UTC%20P22/SY32/projet_ecocup/Projet.ipynb#ch0000001?line=5'>6</a>\u001b[0m \u001b[39mfor\u001b[39;00m lbl \u001b[39min\u001b[39;00m labels:\n",
      "\u001b[1;31mModuleNotFoundError\u001b[0m: No module named 'lxml'"
     ]
    }
   ],
   "source": [
    "import os\n",
    "import numpy as np\n",
    "from lxml import etree\n",
    "\n",
    "labels = os.listdir('train/labels')\n",
    "for lbl in labels:\n",
    "    root = etree.parse(os.path.join('train/labels', lbl))\n",
    "    objs = root.findall(\"object\")\n",
    "    bndboxes = np.zeros((len(objs), 5))\n",
    "    for idx, obj in enumerate(objs):\n",
    "        d = int(obj.find(\"difficult\").text)\n",
    "        bndbox = obj.find(\"bndbox\")\n",
    "        xmin = int(bndbox.find(\"xmin\").text)\n",
    "        ymin = int(bndbox.find(\"ymin\").text)\n",
    "        xmax = int(bndbox.find(\"xmax\").text)\n",
    "        ymax = int(bndbox.find(\"ymax\").text)\n",
    "        i = ymin\n",
    "        j = xmin\n",
    "        h = ymax - ymin\n",
    "        w = xmax - xmin\n",
    "        bndboxes[idx, :] = np.array([i, j, h, w, d])\n",
    "    np.savetxt(os.path.join('labels_csv', lbl[:-4] + '.csv'), bndboxes, fmt='%i', delimiter=\",\")\n"
   ]
  },
  {
   "cell_type": "code",
   "execution_count": 4,
   "id": "ed9639c0",
   "metadata": {},
   "outputs": [],
   "source": [
    "import glob\n",
    "import numpy as np\n",
    "from skimage import io\n",
    "import csv\n",
    "import matplotlib.pyplot as plt\n",
    "import os\n",
    "from skimage.transform import resize\n",
    "import cv2"
   ]
  },
  {
   "cell_type": "code",
   "execution_count": 5,
   "id": "1a8b79b1",
   "metadata": {},
   "outputs": [],
   "source": [
    "from skimage.feature import hog\n",
    "from skimage.color import rgb2gray"
   ]
  },
  {
   "cell_type": "markdown",
   "id": "32c2db17",
   "metadata": {},
   "source": [
    "# fonction permettant de récupérer tous les exemples positifs"
   ]
  },
  {
   "cell_type": "code",
   "execution_count": 3,
   "id": "67275cf7",
   "metadata": {},
   "outputs": [
    {
     "ename": "NameError",
     "evalue": "name 'glob' is not defined",
     "output_type": "error",
     "traceback": [
      "\u001b[1;31m---------------------------------------------------------------------------\u001b[0m",
      "\u001b[1;31mNameError\u001b[0m                                 Traceback (most recent call last)",
      "\u001b[1;32mc:\\Users\\theot\\OneDrive\\UTC P22\\SY32\\projet_ecocup\\Projet.ipynb Cell 6'\u001b[0m in \u001b[0;36m<cell line: 1>\u001b[1;34m()\u001b[0m\n\u001b[1;32m----> <a href='vscode-notebook-cell:/c%3A/Users/theot/OneDrive/UTC%20P22/SY32/projet_ecocup/Projet.ipynb#ch0000005?line=0'>1</a>\u001b[0m \u001b[39mfor\u001b[39;00m img \u001b[39min\u001b[39;00m glob\u001b[39m.\u001b[39mglob(\u001b[39m\"\u001b[39m\u001b[39mtrain\u001b[39m\u001b[39m\\\u001b[39m\u001b[39mimages\u001b[39m\u001b[39m\\\u001b[39m\u001b[39mpos\u001b[39m\u001b[39m\\\u001b[39m\u001b[39m*.jpg\u001b[39m\u001b[39m\"\u001b[39m):\n\u001b[0;32m      <a href='vscode-notebook-cell:/c%3A/Users/theot/OneDrive/UTC%20P22/SY32/projet_ecocup/Projet.ipynb#ch0000005?line=1'>2</a>\u001b[0m     file \u001b[39m=\u001b[39m os\u001b[39m.\u001b[39mpath\u001b[39m.\u001b[39mjoin(\u001b[39m'\u001b[39m\u001b[39mlabels_csv\u001b[39m\u001b[39m'\u001b[39m,img[\u001b[39m17\u001b[39m:][:\u001b[39m-\u001b[39m\u001b[39m4\u001b[39m]\u001b[39m+\u001b[39m\u001b[39m'\u001b[39m\u001b[39m.csv\u001b[39m\u001b[39m'\u001b[39m)\n\u001b[0;32m      <a href='vscode-notebook-cell:/c%3A/Users/theot/OneDrive/UTC%20P22/SY32/projet_ecocup/Projet.ipynb#ch0000005?line=2'>3</a>\u001b[0m     \u001b[39mif\u001b[39;00m os\u001b[39m.\u001b[39mpath\u001b[39m.\u001b[39mexists(file):\n",
      "\u001b[1;31mNameError\u001b[0m: name 'glob' is not defined"
     ]
    }
   ],
   "source": [
    "for img in glob.glob(\"train\\images\\pos\\*.jpg\"):\n",
    "    file = os.path.join('labels_csv',img[17:][:-4]+'.csv')\n",
    "    if os.path.exists(file):\n",
    "        csv_file = np.genfromtxt(file, delimiter=',')\n",
    "        csv_file = csv_file.astype(\"int\")\n",
    "        if len(csv_file.shape) == 1 :\n",
    "            csv_file = np.expand_dims(csv_file, axis = 0)\n",
    "        num = 0\n",
    "        for row in range(csv_file.shape[0]):\n",
    "            i = csv_file[row,0]\n",
    "            j = csv_file[row,1]\n",
    "            h = csv_file[row,2]\n",
    "            l = csv_file[row,3]\n",
    "            d = csv_file[row,4]\n",
    "            image = io.imread(img)\n",
    "            exemple_pos = image[i:i+h+1,j:j+l+1,:]\n",
    "            exemple_pos = resize(exemple_pos, (50, 50), anti_aliasing=True) \n",
    "            plt.imsave(os.path.join('train\\images\\pos\\eco_pos',img[17:][:-4]+'_pos'+str(num)+'.jpg'), exemple_pos)\n",
    "            num = num + 1"
   ]
  },
  {
   "cell_type": "code",
   "execution_count": 2,
   "id": "1b5cce43",
   "metadata": {},
   "outputs": [
    {
     "data": {
      "text/plain": [
       "<matplotlib.image.AxesImage at 0x2d95f4497c0>"
      ]
     },
     "execution_count": 2,
     "metadata": {},
     "output_type": "execute_result"
    },
    {
     "data": {
      "image/png": "[encoded data removed]",
      "text/plain": [
       "<Figure size 432x288 with 1 Axes>"
      ]
     },
     "metadata": {
      "needs_background": "light"
     },
     "output_type": "display_data"
    }
   ],
   "source": [
    "path = \"train\\images\\pos\\eco_pos\"\n",
    "img = io.imread(os.path.join(path,'amiotnoe_pos_009_pos0.jpg'))\n",
    "io.imshow(img)"
   ]
  },
  {
   "cell_type": "code",
   "execution_count": 5,
   "id": "39e198fe",
   "metadata": {},
   "outputs": [
    {
     "ename": "NameError",
     "evalue": "name 'rgb2gray' is not defined",
     "output_type": "error",
     "traceback": [
      "\u001b[1;31m---------------------------------------------------------------------------\u001b[0m",
      "\u001b[1;31mNameError\u001b[0m                                 Traceback (most recent call last)",
      "\u001b[1;32m~\\AppData\\Local\\Temp/ipykernel_109912/2111024728.py\u001b[0m in \u001b[0;36m<module>\u001b[1;34m\u001b[0m\n\u001b[0;32m      1\u001b[0m \u001b[1;32mfrom\u001b[0m \u001b[0mskimage\u001b[0m\u001b[1;33m.\u001b[0m\u001b[0mfeature\u001b[0m \u001b[1;32mimport\u001b[0m \u001b[0mhog\u001b[0m\u001b[1;33m\u001b[0m\u001b[1;33m\u001b[0m\u001b[0m\n\u001b[1;32m----> 2\u001b[1;33m \u001b[0mlen\u001b[0m\u001b[1;33m(\u001b[0m\u001b[0mhog\u001b[0m\u001b[1;33m(\u001b[0m\u001b[0mresize\u001b[0m\u001b[1;33m(\u001b[0m\u001b[0mrgb2gray\u001b[0m\u001b[1;33m(\u001b[0m\u001b[0mimg\u001b[0m\u001b[1;33m)\u001b[0m\u001b[1;33m,\u001b[0m \u001b[1;33m(\u001b[0m\u001b[1;36m50\u001b[0m\u001b[1;33m,\u001b[0m \u001b[1;36m50\u001b[0m\u001b[1;33m)\u001b[0m\u001b[1;33m,\u001b[0m \u001b[0manti_aliasing\u001b[0m\u001b[1;33m=\u001b[0m\u001b[1;32mTrue\u001b[0m\u001b[1;33m)\u001b[0m\u001b[1;33m)\u001b[0m\u001b[1;33m)\u001b[0m\u001b[1;33m\u001b[0m\u001b[1;33m\u001b[0m\u001b[0m\n\u001b[0m",
      "\u001b[1;31mNameError\u001b[0m: name 'rgb2gray' is not defined"
     ]
    }
   ],
   "source": [
    "from skimage.feature import hog\n",
    "from skimage.transform import resize\n",
    "len(hog(resize(rgb2gray(img), (50, 50), anti_aliasing=True)))"
   ]
  },
  {
   "cell_type": "markdown",
   "id": "1ba5b8d0",
   "metadata": {},
   "source": [
    "# Fonction pour récupérer des exemples positifs pivotés"
   ]
  },
  {
   "cell_type": "code",
   "execution_count": 3,
   "id": "6433b9df",
   "metadata": {},
   "outputs": [],
   "source": [
    "for img in glob.glob(\"train\\images\\pos\\eco_pos\\*.jpg\"):\n",
    "    image = io.imread(img)\n",
    "    imageflipr = np.fliplr(image)\n",
    "    imageflipud = np.flipud(image)\n",
    "    plt.imsave(os.path.join('train\\images\\pos\\eco_pos',img[25:][:-4] + '_flipr' +'.jpg'), imageflipr)\n",
    "    plt.imsave(os.path.join('train\\images\\pos\\eco_pos',img[25:][:-4] + '_flipud' +'.jpg'), imageflipud)"
   ]
  },
  {
   "cell_type": "markdown",
   "id": "78d717d5",
   "metadata": {},
   "source": [
    "# Fonction de récupération des exemples négatifs dans les photos négatives"
   ]
  },
  {
   "cell_type": "code",
   "execution_count": 4,
   "id": "4eb53a24",
   "metadata": {},
   "outputs": [],
   "source": [
    "import random\n",
    "for img in glob.glob(\"train/images/neg/*.jpg\"):\n",
    "    image = io.imread(img)\n",
    "    for ite in range(10):\n",
    "        h = 1\n",
    "        l = 100\n",
    "        while (min(h,l)/max(h,l)) < (1/5):\n",
    "            h = random.randint(20,image.shape[0]-1)\n",
    "            l = random.randint(20,image.shape[1]-1)\n",
    "        i = random.randint(0,image.shape[0]-1-h)\n",
    "        j = random.randint(0,image.shape[1]-1-l)\n",
    "        exemple_neg = image[i:i+h+1,j:j+l+1,:]\n",
    "        exemple_neg = resize(exemple_neg, (50, 50), anti_aliasing=True)\n",
    "        plt.imsave(os.path.join('train/images/neg/eco_neg',img[17:][:-4]+'_neg'+str(ite)+'.jpg'), exemple_neg)"
   ]
  },
  {
   "cell_type": "code",
   "execution_count": 34,
   "id": "91c5beeb",
   "metadata": {},
   "outputs": [],
   "source": [
    "import random\n",
    "import numpy as np\n",
    "from skimage import io\n",
    "import csv\n",
    "import matplotlib.pyplot as plt\n",
    "import os\n",
    "from skimage.transform import resize\n",
    "import glob\n",
    "\n",
    "for img in glob.glob(\"C:/Users/user/Desktop/SY32/projet/train/images/faux_pos1/*.jpg\"):\n",
    "        image = io.imread(img)\n",
    "        image = resize(image, (50, 50), anti_aliasing=True)\n",
    "        plt.imsave(img, image)"
   ]
  },
  {
   "cell_type": "markdown",
   "id": "c51faad7",
   "metadata": {},
   "source": [
    "# Fonction de fenêtre glissante forme image pour la détection"
   ]
  },
  {
   "cell_type": "code",
   "execution_count": 1,
   "id": "ce6a7ddb",
   "metadata": {},
   "outputs": [],
   "source": [
    "from skimage.filters import sobel\n",
    "from skimage.color import label2rgb, rgb2gray\n",
    "\n",
    "def texture_non_plane(img):\n",
    "    '''fonction retournant si la matrice étudié est une texture plane grâce au filtre de sobel'''\n",
    "    edges = sobel(rgb2gray(img))\n",
    "    return (np.max(edges) > 0.2)\n",
    "\n",
    "\n",
    "#la largeur et la hauteur ont été inversé ==> à échanger\n",
    "def fenetre_glissante(image,clf):\n",
    "    img = rgb2gray(image)\n",
    "    pos_result = []\n",
    "    h = (img.shape[1]+1)//8\n",
    "    l = (img.shape[0]+1)//8\n",
    "    for inter in range(5):\n",
    "        for i in range(0,2*(img.shape[1]+1)//h):\n",
    "            for j in range(0,2*(img.shape[0]+1)//l):\n",
    "                coin_i = h*i//2\n",
    "                coin_j = l*j//2\n",
    "                fenetre = img[coin_j:(coin_j + l), coin_i:(coin_i + h)]\n",
    "                fenetre1 = resize(fenetre, (50,50), anti_aliasing=True)\n",
    "                I = hog(fenetre1)\n",
    "                #plt.imsave(os.path.join('first_try/neg',str(inter)+str(i)+str(j)+'.jpg'), fenetre)\n",
    "                if (clf.predict([I]) == 1):\n",
    "                    pos_result.append([coin_j*pow(2,inter), coin_i*pow(2,inter), l*pow(2,inter), h*pow(2,inter)])\n",
    "                    #plt.imsave(os.path.join('first_try/pos',str(inter)+str(i)+str(j)+'.jpg'), fenetre)\n",
    "        img = resize(img, (img.shape[0]//2, img.shape[1]//2), anti_aliasing=True)\n",
    "    return pos_result\n",
    "#essayer avec findcontour et drawcontour"
   ]
  },
  {
   "cell_type": "markdown",
   "id": "4c140c6f",
   "metadata": {},
   "source": [
    "# Fenêtre glissante carrés avec incorporation du score et NMS"
   ]
  },
  {
   "cell_type": "code",
   "execution_count": 7,
   "id": "8bc00729",
   "metadata": {},
   "outputs": [],
   "source": [
    "def fenetre_glissante(image,clf):\n",
    "    img = rgb2gray(image)\n",
    "    pos_result = []\n",
    "    \n",
    "    id = 0\n",
    "    \n",
    "    min_shape = min(img.shape[0], img.shape[1])\n",
    "    c = int((min_shape+1)//8)\n",
    "    \n",
    "    for inter in range(4):\n",
    "        \n",
    "        for i in range(0,2*(img.shape[0]+1)//c):\n",
    "            for j in range(0,2*(img.shape[1]+1)//c):\n",
    "                coin_i = c*i//2\n",
    "                coin_j = c*j//2\n",
    "                fenetre = img[coin_i:(coin_i + c), coin_j:(coin_j + c)]\n",
    "                fenetre1 = resize(fenetre, (50,50), anti_aliasing=True)\n",
    "                I = hog(fenetre1)\n",
    "                plt.imsave(os.path.join('first_try/neg',str(inter)+str(i)+str(j)+'.jpg'), fenetre)\n",
    "                predict = clf.decision_function([I])\n",
    "                if (predict >= 0):\n",
    "                    pos_result.append([coin_i*pow(2,inter), coin_j*pow(2,inter), c*pow(2,inter),c*pow(2,inter), predict[0], id])\n",
    "                    id = id + 1;\n",
    "                    plt.imsave(os.path.join('first_try/pos',str(inter)+str(coin_i*pow(2,inter))+str(coin_j*pow(2,inter))+'.jpg'), fenetre)\n",
    "                    \n",
    "        img = resize(img, (img.shape[0]//2, img.shape[1]//2), anti_aliasing=True)\n",
    "    \n",
    "    #le 0.5 est à discuter on pourrait faire le pari de le descendre bien plus\n",
    "    pos_result = filtre_nms(pos_result, 0.5)\n",
    "        \n",
    "    return pos_result\n",
    "#essayer avec findcontour et drawcontour"
   ]
  },
  {
   "cell_type": "markdown",
   "id": "b9845b30",
   "metadata": {},
   "source": [
    "## Fonction fenêtre glissante carré avec heatmap"
   ]
  },
  {
   "cell_type": "code",
   "execution_count": 12,
   "id": "9f2bbd89",
   "metadata": {},
   "outputs": [],
   "source": [
    "def fenetre_glissante(image,clf):\n",
    "    img = rgb2gray(image)\n",
    "    img_copy = img\n",
    "    pos_result = []\n",
    "    heat_map = HeatMap(img_copy)\n",
    "    \n",
    "    id = 0\n",
    "    \n",
    "    min_shape = min(img.shape[0], img.shape[1])\n",
    "    c = int((min_shape+1)//8)\n",
    "    \n",
    "    for inter in range(4):\n",
    "        for i in range(0,2*(img.shape[0]+1)//c):\n",
    "            for j in range(0,2*(img.shape[1]+1)//c):\n",
    "                coin_i = c*i//2\n",
    "                coin_j = c*j//2\n",
    "                fenetre = img[coin_i:(coin_i + c), coin_j:(coin_j + c)]\n",
    "                fenetre1 = resize(fenetre, (50,50), anti_aliasing=True)\n",
    "                I = hog(fenetre1)\n",
    "                predict = clf.decision_function([I])\n",
    "                if (predict >= 0):\n",
    "                    heat_map.add_heat([coin_i*pow(2,inter), coin_j*pow(2,inter), c*pow(2,inter),c*pow(2,inter)])\n",
    "                    id = id + 1\n",
    "                else:\n",
    "                    pass\n",
    "                    #heat_map.remove_heat([coin_i*pow(2,inter), coin_j*pow(2,inter), c*pow(2,inter),c*pow(2,inter)])\n",
    "                    \n",
    "        img = resize(img, (img.shape[0]//2, img.shape[1]//2), anti_aliasing=True)\n",
    "    \n",
    "    #on fzit ressortir les zones\n",
    "    pos_result = heat_map.heat_boxes()\n",
    "        \n",
    "    return pos_result\n",
    "#essayer avec findcontour et drawcontour"
   ]
  },
  {
   "cell_type": "markdown",
   "id": "cc6a7043",
   "metadata": {},
   "source": [
    "## Fonction fenêtre glissante rectangulaire avec heatmap"
   ]
  },
  {
   "cell_type": "code",
   "execution_count": null,
   "id": "9d74e427",
   "metadata": {},
   "outputs": [],
   "source": [
    "def fenetre_glissante(image,clf):\n",
    "    img = rgb2gray(image)\n",
    "    img_copy = img\n",
    "    pos_result = []\n",
    "    heat_map = HeatMap(img_copy)\n",
    "    \n",
    "    id = 0\n",
    "    \n",
    "    min_shape = min(img.shape[0], img.shape[1])\n",
    "    c = int((min_shape+1)//8)\n",
    "    \n",
    "    for inter in range(4):\n",
    "        print(inter, pow(2,inter))\n",
    "        for i in range(0,2*(img.shape[0]+1)//c):\n",
    "            for j in range(0,2*(img.shape[1]+1)//c):\n",
    "                coin_i = c*i//2\n",
    "                coin_j = c*j//2\n",
    "                fenetre = img[coin_i:(coin_i + c), coin_j:(coin_j + c)]\n",
    "                fenetre1 = resize(fenetre, (50,50), anti_aliasing=True)\n",
    "                I = hog(fenetre1)\n",
    "                predict = clf.decision_function([I])\n",
    "                if (predict >= 0):\n",
    "                    heat_map.add_heat([coin_i*pow(2,inter), coin_j*pow(2,inter), c*pow(2,inter),c*pow(2,inter)])\n",
    "                    id = id + 1\n",
    "                else:\n",
    "                    pass\n",
    "                    #heat_map.remove_heat([coin_i*pow(2,inter), coin_j*pow(2,inter), c*pow(2,inter),c*pow(2,inter)])\n",
    "                    \n",
    "        img = resize(img, (img.shape[0]//2, img.shape[1]//2), anti_aliasing=True)\n",
    "    \n",
    "    #on fzit ressortir les zones\n",
    "    pos_result = heat_map.heat_boxes()\n",
    "\n",
    "    for pos in pos_result:\n",
    "        i = pos[0]\n",
    "        j = pos[1]\n",
    "        h = pos[2]\n",
    "        w = pos[3]\n",
    "        plt.imsave(os.path.join('first_try/pos',str(inter)+str(coin_i*pow(2,inter))+str(coin_j*pow(2,inter))+'.jpg'), img_copy[i:i+h+1, j:j+w+1])\n",
    "        \n",
    "    return pos_result\n",
    "#essayer avec findcontour et drawcontour"
   ]
  },
  {
   "cell_type": "markdown",
   "id": "d0b5f0af",
   "metadata": {},
   "source": [
    "# Fonction NMS"
   ]
  },
  {
   "cell_type": "code",
   "execution_count": 6,
   "id": "f1ee4ea5",
   "metadata": {},
   "outputs": [],
   "source": [
    "def filtre_nms(results_in, tresh_iou = 0.5):\n",
    "    results_filtred = []\n",
    "    results_out = results_in\n",
    "    k1 = 0\n",
    "    for result in results_in:\n",
    "        max_score_indice = k1\n",
    "        k2 = 0\n",
    "        for subrow in results_in:\n",
    "            if k2 != k1:\n",
    "                recouvrement = IoU(subrow[0], subrow[1], subrow[2], subrow[3], result[0], result[1], result[2], result[3])\n",
    "                if (recouvrement >= tresh_iou):\n",
    "                    if subrow[4]>ref[4]:\n",
    "                        del results_out[max_score_indice]\n",
    "                        max_score_indice = k2\n",
    "                    else :\n",
    "                        del results_out[k2]\n",
    "            k2 = k2 + 1\n",
    "        k1 = k1 + 1\n",
    "    return results_out"
   ]
  },
  {
   "cell_type": "markdown",
   "id": "4f24beb2",
   "metadata": {},
   "source": [
    "# Classe heatmap"
   ]
  },
  {
   "cell_type": "code",
   "execution_count": 7,
   "id": "a49c4962",
   "metadata": {},
   "outputs": [],
   "source": [
    "from sklearn.preprocessing import MinMaxScaler\n",
    "import cv2\n",
    "\n",
    "class HeatMap():\n",
    "    \n",
    "    def __init__(self, original_image):\n",
    "        self.image = np.zeros(original_image.shape[:2])\n",
    "        \n",
    "    def add_heat(self, coords):\n",
    "        i = coords[0]\n",
    "        j = coords[1]\n",
    "        h = coords[2]\n",
    "        w = coords[3]\n",
    "        self.image[i:i+h+1,j:j+w+1] = self.image[i:i+h+1,j:j+w+1] + 30\n",
    "        \n",
    "    '''def remove_heat(self, coords):\n",
    "        i = coords[0]\n",
    "        j = coords[1]\n",
    "        h = coords[2]\n",
    "        w = coords[3]\n",
    "        \n",
    "        self.image[i:i+h+1,j:j+w+1] = self.image[i:i+h+1,j:j+w+1] - 30'''\n",
    "        \n",
    "    def heat_zones(self):\n",
    "        scaler = MinMaxScaler()\n",
    "        \n",
    "        self.image = scaler.fit_transform(self.image)\n",
    "        \n",
    "        self.image = np.asarray(self.image * 255).astype(int)\n",
    "        \n",
    "        self.image = cv2.inRange(self.image,170,255)\n",
    "        \n",
    "        return self.image\n",
    "    \n",
    "    def heat_boxes(self):\n",
    "        results = []\n",
    "        heat_image = self.heat_zones()\n",
    "        plt.imsave(os.path.join('first_try/','heat_map.jpg'), heat_image)\n",
    "        contours, hierarchy = cv2.findContours(self.image, cv2.RETR_LIST, cv2.CHAIN_APPROX_SIMPLE)\n",
    "        \n",
    "        idx = 0\n",
    "        for cnt in contours:\n",
    "            j,i,w,h = cv2.boundingRect(cnt)\n",
    "            results.append([i,j,h,w])\n",
    "\n",
    "        return results"
   ]
  },
  {
   "cell_type": "code",
   "execution_count": 14,
   "id": "fafdc697",
   "metadata": {},
   "outputs": [],
   "source": [
    "heatmap = HeatMap(img)"
   ]
  },
  {
   "cell_type": "markdown",
   "id": "170a47bd",
   "metadata": {},
   "source": [
    "# Fonction de recherche utilisant le hog"
   ]
  },
  {
   "cell_type": "code",
   "execution_count": 115,
   "id": "8defc0e4",
   "metadata": {},
   "outputs": [],
   "source": [
    "def hog_glissante(img, clf):\n",
    "    pos_result = []  \n",
    "    h = (img.shape[0]+1)//8\n",
    "    l = (img.shape[1]+1)//8\n",
    "    for inter in range(5):\n",
    "        hist, hog_img = hog(rgb2gray(img), visualize=True) \n",
    "        for i in range(0,2*(img.shape[0]+1)//h):\n",
    "            for j in range(0,2*(img.shape[1]+1)//l):\n",
    "                coin_i = h*i//2\n",
    "                coin_j = l*j//2\n",
    "                fenetre = hog_img[coin_i:(coin_i + h), coin_j:(coin_j + l)]\n",
    "                #plt.imsave(os.path.join('first_try/neg',str(inter)+str(i)+str(j)+'.jpg'), fenetre)\n",
    "                fenetre1 = resize(fenetre, (50,50), anti_aliasing=True)\n",
    "                if (clf.predict([fenetre1.flatten()]) == 1):\n",
    "                    pos_result.append([coin_i*(inter+1), coin_j*(inter+1), h*(inter+1), l*(inter+1)])\n",
    "                    #plt.imsave(os.path.join('first_try/pos',str(inter)+str(i)+str(j)+'.jpg'), fenetre)\n",
    "        img = resize(img, (img.shape[0]//2, img.shape[1]//2), anti_aliasing=True)\n",
    "    return pos_result\n",
    "#essayer avec findcontour et drawcontour"
   ]
  },
  {
   "cell_type": "markdown",
   "id": "9d62c31f",
   "metadata": {},
   "source": [
    "# Programme pour entraîner notre classifieur"
   ]
  },
  {
   "cell_type": "code",
   "execution_count": 8,
   "id": "8e94232b",
   "metadata": {},
   "outputs": [
    {
     "name": "stdout",
     "output_type": "stream",
     "text": [
      "\n"
     ]
    },
    {
     "data": {
      "text/plain": [
       "SVC()"
      ]
     },
     "execution_count": 8,
     "metadata": {},
     "output_type": "execute_result"
    }
   ],
   "source": [
    "import numpy as np\n",
    "from skimage import io\n",
    "import csv\n",
    "import matplotlib.pyplot as plt\n",
    "import os\n",
    "from skimage.transform import resize\n",
    "import glob\n",
    "from sklearn import svm\n",
    "from skimage.feature import hog\n",
    "from skimage.color import rgb2gray\n",
    "\n",
    "X_train = np.zeros((6411,1296))\n",
    "i=0\n",
    "taille_doss=5670\n",
    "\n",
    "for img in glob.glob(\"train/images/pos/eco_pos/*.jpg\"):\n",
    "    image = io.imread(img)\n",
    "    I = hog(rgb2gray(image))\n",
    "    X_train[i,:]=I\n",
    "    i = i + 1\n",
    "    \n",
    "nb_pos = i\n",
    "    \n",
    "for img in glob.glob(\"train/images/neg/eco_neg/*.jpg\"):\n",
    "    image = io.imread(img)\n",
    "    I = hog(rgb2gray(image))\n",
    "    X_train[i,:]=I\n",
    "    i = i + 1\n",
    "    \n",
    "nb_neg = i - nb_pos\n",
    "\n",
    "y_train = np.zeros(i)\n",
    "\n",
    "for j in range(nb_pos):\n",
    "    y_train[j] = 1\n",
    "    \n",
    "for j in range(nb_pos, i, 1):\n",
    "    y_train[j] = -1\n",
    "    \n",
    "print()\n",
    "    \n",
    "clf = svm.SVC()\n",
    "clf.fit(X_train, y_train)"
   ]
  },
  {
   "cell_type": "code",
   "execution_count": 11,
   "id": "7ef99617",
   "metadata": {},
   "outputs": [
    {
     "name": "stdout",
     "output_type": "stream",
     "text": [
      "(756, 1008, 3)\n",
      "[[188, 329, 95, 95], [47, 235, 142, 142], [0, 517, 424, 424]]\n"
     ]
    }
   ],
   "source": [
    "path = \"train\\images\\pos\"\n",
    "img = io.imread(os.path.join(path,'amagnero_pos_005.jpg'))\n",
    "#h,I = hog(rgb2gray(img), visualize=True)\n",
    "print(img.shape)\n",
    "pos = fenetre_glissante(img,clf)\n",
    "print(pos)"
   ]
  },
  {
   "cell_type": "markdown",
   "id": "5782a105",
   "metadata": {},
   "source": [
    "# Fonction de recouvrement"
   ]
  },
  {
   "cell_type": "code",
   "execution_count": 16,
   "id": "d8733220",
   "metadata": {},
   "outputs": [],
   "source": [
    "def IoU(i1,j1,h1,l1,i2,j2,h2,l2):\n",
    "    hgi = max(i1,i2)\n",
    "    hgj = max(j1,j2)\n",
    "    \n",
    "    hdj = min(j1+l1, j2+l2)\n",
    "    \n",
    "    bgi = min(i1+h1, i2+h2)\n",
    "    \n",
    "    aire1 = h1*l1\n",
    "    aire2 = h2*l2\n",
    "    \n",
    "    if ((hdj-hgj)<=0) or ((bgi-hgi)<=0):\n",
    "        airec = 0\n",
    "    else :\n",
    "        airec = (hdj-hgj)*(bgi-hgi)\n",
    "    \n",
    "    return(airec/(aire1+aire2-airec))"
   ]
  },
  {
   "cell_type": "markdown",
   "id": "eb0d2855",
   "metadata": {},
   "source": [
    "# Fonction récupérant les faux positifs du premier classifieur"
   ]
  },
  {
   "cell_type": "code",
   "execution_count": 43,
   "id": "8b08ca0f",
   "metadata": {},
   "outputs": [],
   "source": [
    "result_pos = []\n",
    "faux_pos = []\n",
    "\n",
    "for img in glob.glob(\"train/images/pos/*.jpg\"):\n",
    "    if os.path.exists(os.path.join('labels_csv',img[17:][:-4]+'.csv')) == True:\n",
    "        image = io.imread(img)\n",
    "        result_pos = fenetre_glissante(image,clf)\n",
    "        label = np.genfromtxt(os.path.join(\"C:/Users/user/Desktop/SY32/projet/labels_csv\",img[17:][:-4]+'.csv'), delimiter=\",\")\n",
    "        label = label.astype(\"int\")\n",
    "\n",
    "        if len(label.shape) == 1:\n",
    "            label = np.expand_dims(label, axis=0)\n",
    "\n",
    "        faux_pos_counter = 0\n",
    "\n",
    "        for pos in result_pos:\n",
    "            flag_pos = 0\n",
    "            for subrow in label :\n",
    "                recouvrement = IoU(subrow[0], subrow[1], subrow[2], subrow[3], pos[0], pos[1], pos[2], pos[3])\n",
    "                #if (recouvrement >= 0.5):\n",
    "                if (recouvrement >= 0.3):\n",
    "                    flag_pos = 1\n",
    "            if (flag_pos==0):\n",
    "                copy_pos = image[pos[0]:(pos[0]+pos[2]), pos[1]:(pos[1]+pos[3])]\n",
    "                copy_pos = resize(copy_pos, (50, 50), anti_aliasing=True)\n",
    "                plt.imsave(os.path.join('train/images/faux_pos2/',img[17:][:-4] +'_faux_pos_'+ str(faux_pos_counter) +'.jpg'), copy_pos)\n"
   ]
  },
  {
   "cell_type": "markdown",
   "id": "6ad51aed",
   "metadata": {},
   "source": [
    "# Fonction de test sur l'ensemble d'entraînement"
   ]
  },
  {
   "cell_type": "code",
   "execution_count": 22,
   "id": "81418676",
   "metadata": {},
   "outputs": [],
   "source": [
    "def test_classif_precision(path_train,clf):\n",
    "    result_pos = []\n",
    "    faux_pos = []\n",
    "    positifs_classif = 0\n",
    "    faux_positifs = 0\n",
    "    real_positifs = 0\n",
    "    \n",
    "    for img in glob.glob(path + \"/*.jpg\"):\n",
    "        if os.path.exists(os.path.join('labels_csv',img[17:][:-4]+'.csv')) == True:\n",
    "            image = io.imread(img)\n",
    "            result_pos = fenetre_glissante(image,clf)\n",
    "            label = np.genfromtxt(os.path.join(\"C:/Users/user/Desktop/SY32/projet/labels_csv\",img[17:][:-4]+'.csv'), delimiter=\",\")\n",
    "            label = label.astype(\"int\")\n",
    "\n",
    "            if len(label.shape) == 1:\n",
    "                label = np.expand_dims(label, axis=0)\n",
    "\n",
    "            faux_pos_counter = 0\n",
    "\n",
    "            for pos in result_pos:\n",
    "                positifs_classif = positifs_classif + 1\n",
    "                flag_pos = 0\n",
    "                for subrow in label :\n",
    "                    real_positifs = real_positifs + 1\n",
    "                    recouvrement = IoU(subrow[0], subrow[1], subrow[2], subrow[3], pos[0], pos[1], pos[2], pos[3])\n",
    "                    #if (recouvrement >= 0.5):\n",
    "                    if (recouvrement >= 0.3):\n",
    "                        flag_pos = 1\n",
    "                if (flag_pos==0):\n",
    "                    faux_positifs = faux_positifs + 1\n",
    "                    \n",
    "    print(real_positifs, positifs_classif)\n",
    "    \n",
    "    return (1- (faux_positifs/positifs_classif))\n"
   ]
  },
  {
   "cell_type": "code",
   "execution_count": null,
   "id": "18259f61",
   "metadata": {},
   "outputs": [],
   "source": [
    "print(test_classif_precision(\"train/images/pos\",clf))"
   ]
  }
 ],
 "metadata": {
  "interpreter": {
   "hash": "4ab2bb86bd45d5ae4368890fdc53c0579ae2e4beee00850566078193f2627f74"
  },
  "kernelspec": {
   "display_name": "Python 3 (ipykernel)",
   "language": "python",
   "name": "python3"
  },
  "language_info": {
   "codemirror_mode": {
    "name": "ipython",
    "version": 3
   },
   "file_extension": ".py",
   "mimetype": "text/x-python",
   "name": "python",
   "nbconvert_exporter": "python",
   "pygments_lexer": "ipython3",
   "version": "3.10.4"
  }
 },
 "nbformat": 4,
 "nbformat_minor": 5
}
