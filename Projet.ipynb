{
 "cells": [
  {
   "cell_type": "markdown",
   "id": "a849db2b",
   "metadata": {},
   "source": [
    "# Script de récupération des annotions"
   ]
  },
  {
   "cell_type": "code",
   "execution_count": 33,
   "id": "e35faef8",
   "metadata": {},
   "outputs": [],
   "source": [
    "import os\n",
    "import numpy as np\n",
    "from lxml import etree\n",
    "\n",
    "labels = os.listdir('train/labels')\n",
    "for lbl in labels:\n",
    "    root = etree.parse(os.path.join('train/labels', lbl))\n",
    "    objs = root.findall(\"object\")\n",
    "    bndboxes = np.zeros((len(objs), 5))\n",
    "    for idx, obj in enumerate(objs):\n",
    "        d = int(obj.find(\"difficult\").text)\n",
    "        bndbox = obj.find(\"bndbox\")\n",
    "        xmin = int(bndbox.find(\"xmin\").text)\n",
    "        ymin = int(bndbox.find(\"ymin\").text)\n",
    "        xmax = int(bndbox.find(\"xmax\").text)\n",
    "        ymax = int(bndbox.find(\"ymax\").text)\n",
    "        i = ymin\n",
    "        j = xmin\n",
    "        h = ymax - ymin\n",
    "        w = xmax - xmin\n",
    "        bndboxes[idx, :] = np.array([i, j, h, w, d])\n",
    "    np.savetxt(os.path.join('labels_csv', lbl[:-4] + '.csv'), bndboxes, fmt='%i', delimiter=\",\")\n"
   ]
  },
  {
   "cell_type": "code",
   "execution_count": 1,
   "id": "ed9639c0",
   "metadata": {},
   "outputs": [],
   "source": [
    "import glob\n",
    "import numpy as np\n",
    "from skimage import io\n",
    "import csv\n",
    "import matplotlib.pyplot as plt\n",
    "import os\n",
    "from skimage.transform import resize"
   ]
  },
  {
   "cell_type": "code",
   "execution_count": 66,
   "id": "1a8b79b1",
   "metadata": {},
   "outputs": [
    {
     "name": "stdout",
     "output_type": "stream",
     "text": [
      "0.19632910285145044 (1296,)\n"
     ]
    },
    {
     "data": {
      "image/png": "[encoded data removed]",
      "text/plain": [
       "<Figure size 432x288 with 1 Axes>"
      ]
     },
     "metadata": {
      "needs_background": "light"
     },
     "output_type": "display_data"
    }
   ],
   "source": [
    "from skimage.feature import hog\n",
    "from skimage.color import rgb2gray\n",
    "path = \"train\\images\\pos\\eco_pos\"\n",
    "img = io.imread(os.path.join(path,'amiotnoe_pos_003_pos3.jpg'))\n",
    "f,I = hog(rgb2gray(img), visualize=True, feature_vector=True)\n",
    "io.imshow(I, cmap=\"gray\")\n",
    "print(max(I.flatten()), f.shape)"
   ]
  },
  {
   "cell_type": "markdown",
   "id": "32c2db17",
   "metadata": {},
   "source": [
    "# fonction permettant de récupérer tous les exemples positifs"
   ]
  },
  {
   "cell_type": "code",
   "execution_count": 2,
   "id": "67275cf7",
   "metadata": {},
   "outputs": [],
   "source": [
    "for img in glob.glob(\"train\\images\\pos\\*.jpg\"):\n",
    "    file = os.path.join('labels_csv',img[17:][:-4]+'.csv')\n",
    "    if os.path.exists(file):\n",
    "        csv_file = np.genfromtxt(file, delimiter=',')\n",
    "        csv_file = csv_file.astype(\"int\")\n",
    "        if len(csv_file.shape) == 1 :\n",
    "            csv_file = np.expand_dims(csv_file, axis = 0)\n",
    "        num = 0\n",
    "        for row in range(csv_file.shape[0]):\n",
    "            i = csv_file[row,0]\n",
    "            j = csv_file[row,1]\n",
    "            h = csv_file[row,2]\n",
    "            l = csv_file[row,3]\n",
    "            d = csv_file[row,4]\n",
    "            image = io.imread(img)\n",
    "            exemple_pos = image[i:i+h+1,j:j+l+1,:]\n",
    "            exemple_pos = resize(exemple_pos, (50, 50), anti_aliasing=True) \n",
    "            plt.imsave(os.path.join('train\\images\\pos\\eco_pos',img[17:][:-4]+'_pos'+str(num)+'.jpg'), exemple_pos)\n",
    "            num = num + 1"
   ]
  },
  {
   "cell_type": "code",
   "execution_count": 2,
   "id": "1b5cce43",
   "metadata": {},
   "outputs": [
    {
     "data": {
      "text/plain": [
       "<matplotlib.image.AxesImage at 0x2d95f4497c0>"
      ]
     },
     "execution_count": 2,
     "metadata": {},
     "output_type": "execute_result"
    },
    {
     "data": {
      "image/png": "[encoded data removed]",
      "text/plain": [
       "<Figure size 432x288 with 1 Axes>"
      ]
     },
     "metadata": {
      "needs_background": "light"
     },
     "output_type": "display_data"
    }
   ],
   "source": [
    "path = \"train\\images\\pos\\eco_pos\"\n",
    "img = io.imread(os.path.join(path,'amiotnoe_pos_009_pos0.jpg'))\n",
    "io.imshow(img)"
   ]
  },
  {
   "cell_type": "code",
   "execution_count": 5,
   "id": "39e198fe",
   "metadata": {},
   "outputs": [
    {
     "ename": "NameError",
     "evalue": "name 'rgb2gray' is not defined",
     "output_type": "error",
     "traceback": [
      "\u001b[1;31m---------------------------------------------------------------------------\u001b[0m",
      "\u001b[1;31mNameError\u001b[0m                                 Traceback (most recent call last)",
      "\u001b[1;32m~\\AppData\\Local\\Temp/ipykernel_109912/2111024728.py\u001b[0m in \u001b[0;36m<module>\u001b[1;34m\u001b[0m\n\u001b[0;32m      1\u001b[0m \u001b[1;32mfrom\u001b[0m \u001b[0mskimage\u001b[0m\u001b[1;33m.\u001b[0m\u001b[0mfeature\u001b[0m \u001b[1;32mimport\u001b[0m \u001b[0mhog\u001b[0m\u001b[1;33m\u001b[0m\u001b[1;33m\u001b[0m\u001b[0m\n\u001b[1;32m----> 2\u001b[1;33m \u001b[0mlen\u001b[0m\u001b[1;33m(\u001b[0m\u001b[0mhog\u001b[0m\u001b[1;33m(\u001b[0m\u001b[0mresize\u001b[0m\u001b[1;33m(\u001b[0m\u001b[0mrgb2gray\u001b[0m\u001b[1;33m(\u001b[0m\u001b[0mimg\u001b[0m\u001b[1;33m)\u001b[0m\u001b[1;33m,\u001b[0m \u001b[1;33m(\u001b[0m\u001b[1;36m50\u001b[0m\u001b[1;33m,\u001b[0m \u001b[1;36m50\u001b[0m\u001b[1;33m)\u001b[0m\u001b[1;33m,\u001b[0m \u001b[0manti_aliasing\u001b[0m\u001b[1;33m=\u001b[0m\u001b[1;32mTrue\u001b[0m\u001b[1;33m)\u001b[0m\u001b[1;33m)\u001b[0m\u001b[1;33m)\u001b[0m\u001b[1;33m\u001b[0m\u001b[1;33m\u001b[0m\u001b[0m\n\u001b[0m",
      "\u001b[1;31mNameError\u001b[0m: name 'rgb2gray' is not defined"
     ]
    }
   ],
   "source": [
    "from skimage.feature import hog\n",
    "from skimage.transform import resize\n",
    "len(hog(resize(rgb2gray(img), (50, 50), anti_aliasing=True)))"
   ]
  },
  {
   "cell_type": "markdown",
   "id": "1ba5b8d0",
   "metadata": {},
   "source": [
    "# Fonction pour récupérer des exemples positifs pivotés"
   ]
  },
  {
   "cell_type": "code",
   "execution_count": 3,
   "id": "6433b9df",
   "metadata": {},
   "outputs": [],
   "source": [
    "for img in glob.glob(\"train\\images\\pos\\eco_pos\\*.jpg\"):\n",
    "    image = io.imread(img)\n",
    "    imageflipr = np.fliplr(image)\n",
    "    imageflipud = np.flipud(image)\n",
    "    plt.imsave(os.path.join('train\\images\\pos\\eco_pos',img[25:][:-4] + '_flipr' +'.jpg'), imageflipr)\n",
    "    plt.imsave(os.path.join('train\\images\\pos\\eco_pos',img[25:][:-4] + '_flipud' +'.jpg'), imageflipud)"
   ]
  },
  {
   "cell_type": "markdown",
   "id": "78d717d5",
   "metadata": {},
   "source": [
    "# Fonction de récupération des exemples négatifs dans les photos négatives"
   ]
  },
  {
   "cell_type": "code",
   "execution_count": 4,
   "id": "4eb53a24",
   "metadata": {},
   "outputs": [],
   "source": [
    "import random\n",
    "for img in glob.glob(\"train/images/neg/*.jpg\"):\n",
    "    image = io.imread(img)\n",
    "    for ite in range(10):\n",
    "        h = 1\n",
    "        l = 100\n",
    "        while (min(h,l)/max(h,l)) < (1/5):\n",
    "            h = random.randint(20,image.shape[0]-1)\n",
    "            l = random.randint(20,image.shape[1]-1)\n",
    "        i = random.randint(0,image.shape[0]-1-h)\n",
    "        j = random.randint(0,image.shape[1]-1-l)\n",
    "        exemple_neg = image[i:i+h+1,j:j+l+1,:]\n",
    "        exemple_neg = resize(exemple_neg, (50, 50), anti_aliasing=True)\n",
    "        plt.imsave(os.path.join('train/images/neg/eco_neg',img[17:][:-4]+'_neg'+str(ite)+'.jpg'), exemple_neg)"
   ]
  },
  {
   "cell_type": "code",
   "execution_count": 23,
   "id": "91c5beeb",
   "metadata": {},
   "outputs": [],
   "source": [
    "import random\n",
    "import numpy as np\n",
    "from skimage import io\n",
    "import csv\n",
    "import matplotlib.pyplot as plt\n",
    "import os\n",
    "from skimage.transform import resize\n",
    "import glob\n",
    "\n",
    "for img in glob.glob(\"train/images/neg/eco_neg/*.jpg\"):\n",
    "        image = io.imread(img)\n",
    "        image = resize(image, (300, 300), anti_aliasing=True)\n",
    "        plt.imsave(img, image)"
   ]
  },
  {
   "cell_type": "markdown",
   "id": "c51faad7",
   "metadata": {},
   "source": [
    "# Fonction de fenêtre glissante pour la détection"
   ]
  },
  {
   "cell_type": "code",
   "execution_count": 104,
   "id": "ce6a7ddb",
   "metadata": {},
   "outputs": [],
   "source": [
    "from skimage.filters import sobel\n",
    "from skimage.color import label2rgb, rgb2gray\n",
    "\n",
    "def texture_non_plane(img):\n",
    "    '''fonction retournant si la matrice étudié est une texture plane grâce au filtre de sobel'''\n",
    "    edges = sobel(rgb2gray(img))\n",
    "    return (np.max(edges) > 0.2)\n",
    "\n",
    "\n",
    "\n",
    "def fenetre_glissante(image,clf):\n",
    "    img = rgb2gray(image)\n",
    "    pos_result = []\n",
    "    h = (img.shape[1]+1)//8\n",
    "    l = (img.shape[0]+1)//8\n",
    "    for inter in range(5):\n",
    "        for i in range(0,2*(img.shape[1]+1)//h):\n",
    "            for j in range(0,2*(img.shape[0]+1)//l):\n",
    "                coin_i = h*i//2\n",
    "                coin_j = l*j//2\n",
    "                fenetre = img[coin_j:(coin_j + l), coin_i:(coin_i + h)]\n",
    "                fenetre1 = resize(fenetre, (50,50), anti_aliasing=True)\n",
    "                I = hog(fenetre1)\n",
    "                plt.imsave(os.path.join('first_try/neg',str(inter)+str(i)+str(j)+'.jpg'), fenetre)\n",
    "                if (clf.predict([I]) == 1):\n",
    "                    pos_result.append([coin_j*pow(2,inter), coin_i*pow(2,inter), l*pow(2,inter), h*pow(2,inter)])\n",
    "                    plt.imsave(os.path.join('first_try/pos',str(inter)+str(i)+str(j)+'.jpg'), fenetre)\n",
    "        img = resize(img, (img.shape[0]//2, img.shape[1]//2), anti_aliasing=True)\n",
    "    return pos_result\n",
    "#essayer avec findcontour et drawcontour"
   ]
  },
  {
   "cell_type": "code",
   "execution_count": 92,
   "id": "b4f66521",
   "metadata": {},
   "outputs": [
    {
     "name": "stdout",
     "output_type": "stream",
     "text": [
      "92 160\n",
      "(743, 1280)\n",
      "(371, 640)\n",
      "(185, 320)\n",
      "(92, 160)\n",
      "(46, 80)\n",
      "(23, 40)\n",
      "341\n"
     ]
    }
   ],
   "source": [
    "path = \"train\\images\"\n",
    "img = io.imread(os.path.join(path,'image-attractive.jpg'))\n",
    "img = rgb2gray(img)\n",
    "liste = []\n",
    "print(img.shape[0]//8, img.shape[1]//8)\n",
    "fenetre_glissante(img, liste)\n",
    "print(len(liste))"
   ]
  },
  {
   "cell_type": "code",
   "execution_count": 93,
   "id": "7faf54ce",
   "metadata": {},
   "outputs": [
    {
     "data": {
      "text/plain": [
       "<matplotlib.image.AxesImage at 0x29d60e7f220>"
      ]
     },
     "execution_count": 93,
     "metadata": {},
     "output_type": "execute_result"
    },
    {
     "data": {
      "image/png": "[encoded data removed]",
      "text/plain": [
       "<Figure size 432x288 with 1 Axes>"
      ]
     },
     "metadata": {
      "needs_background": "light"
     },
     "output_type": "display_data"
    }
   ],
   "source": [
    "io.imshow(liste[340])"
   ]
  },
  {
   "cell_type": "markdown",
   "id": "170a47bd",
   "metadata": {},
   "source": [
    "# Fonction de recherche utilisant le hog"
   ]
  },
  {
   "cell_type": "code",
   "execution_count": 115,
   "id": "8defc0e4",
   "metadata": {},
   "outputs": [],
   "source": [
    "def hog_glissante(img, clf):\n",
    "    pos_result = []  \n",
    "    h = (img.shape[0]+1)//8\n",
    "    l = (img.shape[1]+1)//8\n",
    "    for inter in range(5):\n",
    "        hist, hog_img = hog(rgb2gray(img), visualize=True) \n",
    "        for i in range(0,2*(img.shape[0]+1)//h):\n",
    "            for j in range(0,2*(img.shape[1]+1)//l):\n",
    "                coin_i = h*i//2\n",
    "                coin_j = l*j//2\n",
    "                fenetre = hog_img[coin_i:(coin_i + h), coin_j:(coin_j + l)]\n",
    "                plt.imsave(os.path.join('first_try/neg',str(inter)+str(i)+str(j)+'.jpg'), fenetre)\n",
    "                fenetre1 = resize(fenetre, (50,50), anti_aliasing=True)\n",
    "                if (clf.predict([fenetre1.flatten()]) == 1):\n",
    "                    pos_result.append([coin_i*(inter+1), coin_j*(inter+1), h*(inter+1), l*(inter+1)])\n",
    "                    plt.imsave(os.path.join('first_try/pos',str(inter)+str(i)+str(j)+'.jpg'), fenetre)\n",
    "        img = resize(img, (img.shape[0]//2, img.shape[1]//2), anti_aliasing=True)\n",
    "    return pos_result\n",
    "#essayer avec findcontour et drawcontour"
   ]
  },
  {
   "cell_type": "markdown",
   "id": "9d62c31f",
   "metadata": {},
   "source": [
    "# Programme pour entraîner notre classifieur"
   ]
  },
  {
   "cell_type": "code",
   "execution_count": 2,
   "id": "8e94232b",
   "metadata": {},
   "outputs": [
    {
     "name": "stdout",
     "output_type": "stream",
     "text": [
      "\n"
     ]
    },
    {
     "data": {
      "text/plain": [
       "SVC()"
      ]
     },
     "execution_count": 2,
     "metadata": {},
     "output_type": "execute_result"
    }
   ],
   "source": [
    "import numpy as np\n",
    "from skimage import io\n",
    "import csv\n",
    "import matplotlib.pyplot as plt\n",
    "import os\n",
    "from skimage.transform import resize\n",
    "import glob\n",
    "from sklearn import svm\n",
    "from skimage.feature import hog\n",
    "from skimage.color import rgb2gray\n",
    "\n",
    "X_train = np.zeros((5670,1296))\n",
    "i=0\n",
    "taille_doss=5670\n",
    "\n",
    "for img in glob.glob(\"train/images/pos/eco_pos/*.jpg\"):\n",
    "    image = io.imread(img)\n",
    "    I = hog(rgb2gray(image))\n",
    "    X_train[i,:]=I\n",
    "    i = i + 1\n",
    "    \n",
    "nb_pos = i\n",
    "    \n",
    "for img in glob.glob(\"train/images/neg/eco_neg/*.jpg\"):\n",
    "    image = io.imread(img)\n",
    "    I = hog(rgb2gray(image))\n",
    "    X_train[i,:]=I\n",
    "    i = i + 1\n",
    "    \n",
    "nb_neg = i - nb_pos\n",
    "\n",
    "y_train = np.zeros(i)\n",
    "\n",
    "for j in range(nb_pos):\n",
    "    y_train[j] = 1\n",
    "    \n",
    "for j in range(nb_pos, i, 1):\n",
    "    y_train[j] = -1\n",
    "    \n",
    "print()\n",
    "    \n",
    "clf = svm.SVC()\n",
    "clf.fit(X_train, y_train)"
   ]
  },
  {
   "cell_type": "code",
   "execution_count": 135,
   "id": "7ef99617",
   "metadata": {},
   "outputs": [],
   "source": [
    "path = \"train\\images\\pos\"\n",
    "img = io.imread(os.path.join(path,'grallthi_pos_004.jpg'))\n",
    "#h,I = hog(rgb2gray(img), visualize=True)\n",
    "pos = fenetre_glissante(img,clf)\n",
    "\n",
    "#clf.predict([I.flatten()])"
   ]
  },
  {
   "cell_type": "code",
   "execution_count": 133,
   "id": "d8733220",
   "metadata": {},
   "outputs": [],
   "source": [
    "def IoU(i1,j1,h1,l1,i2,j2,h2,l2):\n",
    "    hgi = max(i1,i2)\n",
    "    hgj = max(j1,j2)\n",
    "    \n",
    "    hdj = min(j1+l1, j2+l2)\n",
    "    \n",
    "    bgi = min(i1+h1, i2+h2)\n",
    "    \n",
    "    aire1 = h1*l1\n",
    "    aire2 = h2*l2\n",
    "    \n",
    "    airec = max(0,(hdj-hgj)*(bgi-hgi))\n",
    "    \n",
    "    return(airec/(aire1+aire2-airec))"
   ]
  },
  {
   "cell_type": "code",
   "execution_count": 132,
   "id": "bae8757f",
   "metadata": {},
   "outputs": [
    {
     "name": "stdout",
     "output_type": "stream",
     "text": [
      "2 -2 4\n"
     ]
    },
    {
     "data": {
      "text/plain": [
       "0.14285714285714285"
      ]
     },
     "execution_count": 132,
     "metadata": {},
     "output_type": "execute_result"
    }
   ],
   "source": [
    "IoU(0,2,4,4,2,4,4,4)"
   ]
  },
  {
   "cell_type": "code",
   "execution_count": 39,
   "id": "1a435e4c",
   "metadata": {},
   "outputs": [
    {
     "data": {
      "text/plain": [
       "[[550, 37, 100, 75],\n",
       " [300, 75, 100, 75],\n",
       " [550, 75, 100, 75],\n",
       " [450, 225, 100, 75],\n",
       " [300, 300, 100, 75],\n",
       " [750, 300, 100, 75],\n",
       " [0, 375, 100, 75],\n",
       " [500, 450, 100, 75],\n",
       " [550, 487, 100, 75],\n",
       " [500, 0, 200, 150],\n",
       " [600, 0, 200, 150],\n",
       " [700, 0, 200, 150],\n",
       " [400, 150, 200, 150],\n",
       " [500, 150, 200, 150],\n",
       " [600, 150, 200, 150],\n",
       " [700, 150, 200, 150],\n",
       " [200, 300, 400, 300],\n",
       " [400, 300, 400, 300],\n",
       " [400, 296, 800, 600]]"
      ]
     },
     "execution_count": 39,
     "metadata": {},
     "output_type": "execute_result"
    }
   ],
   "source": [
    "pos"
   ]
  },
  {
   "cell_type": "code",
   "execution_count": 101,
   "id": "239381fe",
   "metadata": {},
   "outputs": [
    {
     "ename": "AttributeError",
     "evalue": "'str' object has no attribute 'shape'",
     "output_type": "error",
     "traceback": [
      "\u001b[1;31m---------------------------------------------------------------------------\u001b[0m",
      "\u001b[1;31mAttributeError\u001b[0m                            Traceback (most recent call last)",
      "\u001b[1;32m~\\AppData\\Local\\Temp/ipykernel_116964/4260751373.py\u001b[0m in \u001b[0;36m<module>\u001b[1;34m\u001b[0m\n\u001b[1;32m----> 1\u001b[1;33m \u001b[0mimg\u001b[0m\u001b[1;33m.\u001b[0m\u001b[0mshape\u001b[0m\u001b[1;33m\u001b[0m\u001b[1;33m\u001b[0m\u001b[0m\n\u001b[0m",
      "\u001b[1;31mAttributeError\u001b[0m: 'str' object has no attribute 'shape'"
     ]
    }
   ],
   "source": [
    "img.shape"
   ]
  },
  {
   "cell_type": "code",
   "execution_count": null,
   "id": "babc6d98",
   "metadata": {},
   "outputs": [],
   "source": [
    "io.imshow(img[400:(400+400), 300:(300+300)])"
   ]
  },
  {
   "cell_type": "markdown",
   "id": "eb0d2855",
   "metadata": {},
   "source": [
    "# Fonction récupérant les faux positifs du premier classifieur"
   ]
  },
  {
   "cell_type": "code",
   "execution_count": 134,
   "id": "8b08ca0f",
   "metadata": {},
   "outputs": [
    {
     "ename": "KeyboardInterrupt",
     "evalue": "",
     "output_type": "error",
     "traceback": [
      "\u001b[1;31m---------------------------------------------------------------------------\u001b[0m",
      "\u001b[1;31mKeyboardInterrupt\u001b[0m                         Traceback (most recent call last)",
      "\u001b[1;32m~\\AppData\\Local\\Temp/ipykernel_116964/967280862.py\u001b[0m in \u001b[0;36m<module>\u001b[1;34m\u001b[0m\n\u001b[0;32m      5\u001b[0m     \u001b[1;32mif\u001b[0m \u001b[0mos\u001b[0m\u001b[1;33m.\u001b[0m\u001b[0mpath\u001b[0m\u001b[1;33m.\u001b[0m\u001b[0mexists\u001b[0m\u001b[1;33m(\u001b[0m\u001b[0mos\u001b[0m\u001b[1;33m.\u001b[0m\u001b[0mpath\u001b[0m\u001b[1;33m.\u001b[0m\u001b[0mjoin\u001b[0m\u001b[1;33m(\u001b[0m\u001b[1;34m'labels_csv'\u001b[0m\u001b[1;33m,\u001b[0m\u001b[0mimg\u001b[0m\u001b[1;33m[\u001b[0m\u001b[1;36m17\u001b[0m\u001b[1;33m:\u001b[0m\u001b[1;33m]\u001b[0m\u001b[1;33m[\u001b[0m\u001b[1;33m:\u001b[0m\u001b[1;33m-\u001b[0m\u001b[1;36m4\u001b[0m\u001b[1;33m]\u001b[0m\u001b[1;33m+\u001b[0m\u001b[1;34m'.csv'\u001b[0m\u001b[1;33m)\u001b[0m\u001b[1;33m)\u001b[0m \u001b[1;33m==\u001b[0m \u001b[1;32mTrue\u001b[0m\u001b[1;33m:\u001b[0m\u001b[1;33m\u001b[0m\u001b[1;33m\u001b[0m\u001b[0m\n\u001b[0;32m      6\u001b[0m         \u001b[0mimage\u001b[0m \u001b[1;33m=\u001b[0m \u001b[0mio\u001b[0m\u001b[1;33m.\u001b[0m\u001b[0mimread\u001b[0m\u001b[1;33m(\u001b[0m\u001b[0mimg\u001b[0m\u001b[1;33m)\u001b[0m\u001b[1;33m\u001b[0m\u001b[1;33m\u001b[0m\u001b[0m\n\u001b[1;32m----> 7\u001b[1;33m         \u001b[0mresult_pos\u001b[0m \u001b[1;33m=\u001b[0m \u001b[0mfenetre_glissante\u001b[0m\u001b[1;33m(\u001b[0m\u001b[0mimage\u001b[0m\u001b[1;33m,\u001b[0m\u001b[0mclf\u001b[0m\u001b[1;33m)\u001b[0m\u001b[1;33m\u001b[0m\u001b[1;33m\u001b[0m\u001b[0m\n\u001b[0m\u001b[0;32m      8\u001b[0m         \u001b[0mlabel\u001b[0m \u001b[1;33m=\u001b[0m \u001b[0mnp\u001b[0m\u001b[1;33m.\u001b[0m\u001b[0mgenfromtxt\u001b[0m\u001b[1;33m(\u001b[0m\u001b[0mos\u001b[0m\u001b[1;33m.\u001b[0m\u001b[0mpath\u001b[0m\u001b[1;33m.\u001b[0m\u001b[0mjoin\u001b[0m\u001b[1;33m(\u001b[0m\u001b[1;34m\"C:/Users/user/Desktop/SY32/projet/labels_csv\"\u001b[0m\u001b[1;33m,\u001b[0m\u001b[0mimg\u001b[0m\u001b[1;33m[\u001b[0m\u001b[1;36m17\u001b[0m\u001b[1;33m:\u001b[0m\u001b[1;33m]\u001b[0m\u001b[1;33m[\u001b[0m\u001b[1;33m:\u001b[0m\u001b[1;33m-\u001b[0m\u001b[1;36m4\u001b[0m\u001b[1;33m]\u001b[0m\u001b[1;33m+\u001b[0m\u001b[1;34m'.csv'\u001b[0m\u001b[1;33m)\u001b[0m\u001b[1;33m,\u001b[0m \u001b[0mdelimiter\u001b[0m\u001b[1;33m=\u001b[0m\u001b[1;34m\",\"\u001b[0m\u001b[1;33m)\u001b[0m\u001b[1;33m\u001b[0m\u001b[1;33m\u001b[0m\u001b[0m\n\u001b[0;32m      9\u001b[0m         \u001b[0mlabel\u001b[0m \u001b[1;33m=\u001b[0m \u001b[0mlabel\u001b[0m\u001b[1;33m.\u001b[0m\u001b[0mastype\u001b[0m\u001b[1;33m(\u001b[0m\u001b[1;34m\"int\"\u001b[0m\u001b[1;33m)\u001b[0m\u001b[1;33m\u001b[0m\u001b[1;33m\u001b[0m\u001b[0m\n",
      "\u001b[1;32m~\\AppData\\Local\\Temp/ipykernel_116964/768315484.py\u001b[0m in \u001b[0;36mfenetre_glissante\u001b[1;34m(image, clf)\u001b[0m\n\u001b[0;32m     20\u001b[0m                 \u001b[0mcoin_j\u001b[0m \u001b[1;33m=\u001b[0m \u001b[0ml\u001b[0m\u001b[1;33m*\u001b[0m\u001b[0mj\u001b[0m\u001b[1;33m//\u001b[0m\u001b[1;36m2\u001b[0m\u001b[1;33m\u001b[0m\u001b[1;33m\u001b[0m\u001b[0m\n\u001b[0;32m     21\u001b[0m                 \u001b[0mfenetre\u001b[0m \u001b[1;33m=\u001b[0m \u001b[0mimg\u001b[0m\u001b[1;33m[\u001b[0m\u001b[0mcoin_j\u001b[0m\u001b[1;33m:\u001b[0m\u001b[1;33m(\u001b[0m\u001b[0mcoin_j\u001b[0m \u001b[1;33m+\u001b[0m \u001b[0ml\u001b[0m\u001b[1;33m)\u001b[0m\u001b[1;33m,\u001b[0m \u001b[0mcoin_i\u001b[0m\u001b[1;33m:\u001b[0m\u001b[1;33m(\u001b[0m\u001b[0mcoin_i\u001b[0m \u001b[1;33m+\u001b[0m \u001b[0mh\u001b[0m\u001b[1;33m)\u001b[0m\u001b[1;33m]\u001b[0m\u001b[1;33m\u001b[0m\u001b[1;33m\u001b[0m\u001b[0m\n\u001b[1;32m---> 22\u001b[1;33m                 \u001b[0mfenetre1\u001b[0m \u001b[1;33m=\u001b[0m \u001b[0mresize\u001b[0m\u001b[1;33m(\u001b[0m\u001b[0mfenetre\u001b[0m\u001b[1;33m,\u001b[0m \u001b[1;33m(\u001b[0m\u001b[1;36m50\u001b[0m\u001b[1;33m,\u001b[0m\u001b[1;36m50\u001b[0m\u001b[1;33m)\u001b[0m\u001b[1;33m,\u001b[0m \u001b[0manti_aliasing\u001b[0m\u001b[1;33m=\u001b[0m\u001b[1;32mTrue\u001b[0m\u001b[1;33m)\u001b[0m\u001b[1;33m\u001b[0m\u001b[1;33m\u001b[0m\u001b[0m\n\u001b[0m\u001b[0;32m     23\u001b[0m                 \u001b[0mI\u001b[0m \u001b[1;33m=\u001b[0m \u001b[0mhog\u001b[0m\u001b[1;33m(\u001b[0m\u001b[0mfenetre1\u001b[0m\u001b[1;33m)\u001b[0m\u001b[1;33m\u001b[0m\u001b[1;33m\u001b[0m\u001b[0m\n\u001b[0;32m     24\u001b[0m                 \u001b[0mplt\u001b[0m\u001b[1;33m.\u001b[0m\u001b[0mimsave\u001b[0m\u001b[1;33m(\u001b[0m\u001b[0mos\u001b[0m\u001b[1;33m.\u001b[0m\u001b[0mpath\u001b[0m\u001b[1;33m.\u001b[0m\u001b[0mjoin\u001b[0m\u001b[1;33m(\u001b[0m\u001b[1;34m'first_try/neg'\u001b[0m\u001b[1;33m,\u001b[0m\u001b[0mstr\u001b[0m\u001b[1;33m(\u001b[0m\u001b[0minter\u001b[0m\u001b[1;33m)\u001b[0m\u001b[1;33m+\u001b[0m\u001b[0mstr\u001b[0m\u001b[1;33m(\u001b[0m\u001b[0mi\u001b[0m\u001b[1;33m)\u001b[0m\u001b[1;33m+\u001b[0m\u001b[0mstr\u001b[0m\u001b[1;33m(\u001b[0m\u001b[0mj\u001b[0m\u001b[1;33m)\u001b[0m\u001b[1;33m+\u001b[0m\u001b[1;34m'.jpg'\u001b[0m\u001b[1;33m)\u001b[0m\u001b[1;33m,\u001b[0m \u001b[0mfenetre\u001b[0m\u001b[1;33m)\u001b[0m\u001b[1;33m\u001b[0m\u001b[1;33m\u001b[0m\u001b[0m\n",
      "\u001b[1;32m~\\anaconda3\\lib\\site-packages\\skimage\\transform\\_warps.py\u001b[0m in \u001b[0;36mresize\u001b[1;34m(image, output_shape, order, mode, cval, clip, preserve_range, anti_aliasing, anti_aliasing_sigma)\u001b[0m\n\u001b[0;32m    179\u001b[0m                 warn(\"Anti-aliasing standard deviation greater than zero but \"\n\u001b[0;32m    180\u001b[0m                      \"not down-sampling along all axes\")\n\u001b[1;32m--> 181\u001b[1;33m         image = ndi.gaussian_filter(image, anti_aliasing_sigma,\n\u001b[0m\u001b[0;32m    182\u001b[0m                                     cval=cval, mode=ndi_mode)\n\u001b[0;32m    183\u001b[0m \u001b[1;33m\u001b[0m\u001b[0m\n",
      "\u001b[1;32m~\\anaconda3\\lib\\site-packages\\scipy\\ndimage\\filters.py\u001b[0m in \u001b[0;36mgaussian_filter\u001b[1;34m(input, sigma, order, output, mode, cval, truncate)\u001b[0m\n\u001b[0;32m    340\u001b[0m     \u001b[1;32mif\u001b[0m \u001b[0mlen\u001b[0m\u001b[1;33m(\u001b[0m\u001b[0maxes\u001b[0m\u001b[1;33m)\u001b[0m \u001b[1;33m>\u001b[0m \u001b[1;36m0\u001b[0m\u001b[1;33m:\u001b[0m\u001b[1;33m\u001b[0m\u001b[1;33m\u001b[0m\u001b[0m\n\u001b[0;32m    341\u001b[0m         \u001b[1;32mfor\u001b[0m \u001b[0maxis\u001b[0m\u001b[1;33m,\u001b[0m \u001b[0msigma\u001b[0m\u001b[1;33m,\u001b[0m \u001b[0morder\u001b[0m\u001b[1;33m,\u001b[0m \u001b[0mmode\u001b[0m \u001b[1;32min\u001b[0m \u001b[0maxes\u001b[0m\u001b[1;33m:\u001b[0m\u001b[1;33m\u001b[0m\u001b[1;33m\u001b[0m\u001b[0m\n\u001b[1;32m--> 342\u001b[1;33m             gaussian_filter1d(input, sigma, axis, order, output,\n\u001b[0m\u001b[0;32m    343\u001b[0m                               mode, cval, truncate)\n\u001b[0;32m    344\u001b[0m             \u001b[0minput\u001b[0m \u001b[1;33m=\u001b[0m \u001b[0moutput\u001b[0m\u001b[1;33m\u001b[0m\u001b[1;33m\u001b[0m\u001b[0m\n",
      "\u001b[1;32m~\\anaconda3\\lib\\site-packages\\scipy\\ndimage\\filters.py\u001b[0m in \u001b[0;36mgaussian_filter1d\u001b[1;34m(input, sigma, axis, order, output, mode, cval, truncate)\u001b[0m\n\u001b[0;32m    259\u001b[0m     \u001b[1;31m# Since we are calling correlate, not convolve, revert the kernel\u001b[0m\u001b[1;33m\u001b[0m\u001b[1;33m\u001b[0m\u001b[0m\n\u001b[0;32m    260\u001b[0m     \u001b[0mweights\u001b[0m \u001b[1;33m=\u001b[0m \u001b[0m_gaussian_kernel1d\u001b[0m\u001b[1;33m(\u001b[0m\u001b[0msigma\u001b[0m\u001b[1;33m,\u001b[0m \u001b[0morder\u001b[0m\u001b[1;33m,\u001b[0m \u001b[0mlw\u001b[0m\u001b[1;33m)\u001b[0m\u001b[1;33m[\u001b[0m\u001b[1;33m:\u001b[0m\u001b[1;33m:\u001b[0m\u001b[1;33m-\u001b[0m\u001b[1;36m1\u001b[0m\u001b[1;33m]\u001b[0m\u001b[1;33m\u001b[0m\u001b[1;33m\u001b[0m\u001b[0m\n\u001b[1;32m--> 261\u001b[1;33m     \u001b[1;32mreturn\u001b[0m \u001b[0mcorrelate1d\u001b[0m\u001b[1;33m(\u001b[0m\u001b[0minput\u001b[0m\u001b[1;33m,\u001b[0m \u001b[0mweights\u001b[0m\u001b[1;33m,\u001b[0m \u001b[0maxis\u001b[0m\u001b[1;33m,\u001b[0m \u001b[0moutput\u001b[0m\u001b[1;33m,\u001b[0m \u001b[0mmode\u001b[0m\u001b[1;33m,\u001b[0m \u001b[0mcval\u001b[0m\u001b[1;33m,\u001b[0m \u001b[1;36m0\u001b[0m\u001b[1;33m)\u001b[0m\u001b[1;33m\u001b[0m\u001b[1;33m\u001b[0m\u001b[0m\n\u001b[0m\u001b[0;32m    262\u001b[0m \u001b[1;33m\u001b[0m\u001b[0m\n\u001b[0;32m    263\u001b[0m \u001b[1;33m\u001b[0m\u001b[0m\n",
      "\u001b[1;32m~\\anaconda3\\lib\\site-packages\\scipy\\ndimage\\filters.py\u001b[0m in \u001b[0;36mcorrelate1d\u001b[1;34m(input, weights, axis, output, mode, cval, origin)\u001b[0m\n\u001b[0;32m    131\u001b[0m                          '(len(weights)-1) // 2')\n\u001b[0;32m    132\u001b[0m     \u001b[0mmode\u001b[0m \u001b[1;33m=\u001b[0m \u001b[0m_ni_support\u001b[0m\u001b[1;33m.\u001b[0m\u001b[0m_extend_mode_to_code\u001b[0m\u001b[1;33m(\u001b[0m\u001b[0mmode\u001b[0m\u001b[1;33m)\u001b[0m\u001b[1;33m\u001b[0m\u001b[1;33m\u001b[0m\u001b[0m\n\u001b[1;32m--> 133\u001b[1;33m     _nd_image.correlate1d(input, weights, axis, output, mode, cval,\n\u001b[0m\u001b[0;32m    134\u001b[0m                           origin)\n\u001b[0;32m    135\u001b[0m     \u001b[1;32mreturn\u001b[0m \u001b[0moutput\u001b[0m\u001b[1;33m\u001b[0m\u001b[1;33m\u001b[0m\u001b[0m\n",
      "\u001b[1;31mKeyboardInterrupt\u001b[0m: "
     ]
    }
   ],
   "source": [
    "result_pos = []\n",
    "faux_pos = []\n",
    "\n",
    "for img in glob.glob(\"train/images/pos/*.jpg\"):\n",
    "    if os.path.exists(os.path.join('labels_csv',img[17:][:-4]+'.csv')) == True:\n",
    "        image = io.imread(img)\n",
    "        result_pos = fenetre_glissante(image,clf)\n",
    "        label = np.genfromtxt(os.path.join(\"C:/Users/user/Desktop/SY32/projet/labels_csv\",img[17:][:-4]+'.csv'), delimiter=\",\")\n",
    "        label = label.astype(\"int\")\n",
    "\n",
    "        if len(label.shape) == 1:\n",
    "            label = np.expand_dims(label, axis=0)\n",
    "\n",
    "        faux_pos_counter = 0\n",
    "        flag_pos = 0\n",
    "\n",
    "        for pos in result_pos:\n",
    "            for subrow in label :\n",
    "                recouvrement = IoU(subrow[0], subrow[1], subrow[2], subrow[3], pos[0], pos[1], pos[2], pos[3])\n",
    "                if (recouvrement >= 0.5):\n",
    "                    flag_pos = 1\n",
    "                    break\n",
    "            if (flag_pos==0):\n",
    "                plt.imsave(os.path.join('train/images/faux_pos/',img[17:][:-4] +'_faux_pos_'+ str(faux_pos_counter) +'.jpg'), image[pos[0]:(pos[0]+pos[2]), pos[1]:(pos[1]+pos[3])])\n"
   ]
  }
 ],
 "metadata": {
  "kernelspec": {
   "display_name": "Python 3 (ipykernel)",
   "language": "python",
   "name": "python3"
  },
  "language_info": {
   "codemirror_mode": {
    "name": "ipython",
    "version": 3
   },
   "file_extension": ".py",
   "mimetype": "text/x-python",
   "name": "python",
   "nbconvert_exporter": "python",
   "pygments_lexer": "ipython3",
   "version": "3.9.7"
  }
 },
 "nbformat": 4,
 "nbformat_minor": 5
}
