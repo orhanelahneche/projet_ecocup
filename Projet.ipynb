{
 "cells": [
  {
   "cell_type": "markdown",
   "id": "a849db2b",
   "metadata": {},
   "source": [
    "# Script de récupération des annotions"
   ]
  },
  {
   "cell_type": "code",
   "execution_count": 17,
   "id": "e35faef8",
   "metadata": {},
   "outputs": [],
   "source": [
    "import os\n",
    "import numpy as np\n",
    "from lxml import etree\n",
    "\n",
    "labels = os.listdir('train/labels')\n",
    "for lbl in labels:\n",
    "    root = etree.parse(os.path.join('train/labels', lbl))\n",
    "    objs = root.findall(\"object\")\n",
    "    bndboxes = np.zeros((len(objs), 5))\n",
    "    for idx, obj in enumerate(objs):\n",
    "        d = int(obj.find(\"difficult\").text)\n",
    "        bndbox = obj.find(\"bndbox\")\n",
    "        xmin = int(bndbox.find(\"xmin\").text)\n",
    "        ymin = int(bndbox.find(\"ymin\").text)\n",
    "        xmax = int(bndbox.find(\"xmax\").text)\n",
    "        ymax = int(bndbox.find(\"ymax\").text)\n",
    "        i = ymin\n",
    "        j = xmin\n",
    "        h = ymax - ymin\n",
    "        w = xmax - xmin\n",
    "        bndboxes[idx, :] = np.array([i, j, h, w, d])\n",
    "    np.savetxt(os.path.join('labels_csv', lbl[:-4] + '.csv'), bndboxes, fmt='%i', delimiter=\",\")"
   ]
  },
  {
   "cell_type": "code",
   "execution_count": 5,
   "id": "ed9639c0",
   "metadata": {},
   "outputs": [],
   "source": [
    "import glob\n",
    "import numpy as np\n",
    "from skimage import io\n",
    "import csv\n",
    "import matplotlib.pyplot as plt\n",
    "import os\n",
    "from skimage.transform import resize"
   ]
  },
  {
   "cell_type": "code",
   "execution_count": 6,
   "id": "1a8b79b1",
   "metadata": {},
   "outputs": [],
   "source": [
    "from skimage.feature import hog\n",
    "from skimage.color import rgb2gray"
   ]
  },
  {
   "cell_type": "markdown",
   "id": "32c2db17",
   "metadata": {},
   "source": [
    "# fonction permettant de récupérer tous les exemples positifs"
   ]
  },
  {
   "cell_type": "code",
   "execution_count": 20,
   "id": "67275cf7",
   "metadata": {},
   "outputs": [],
   "source": [
    "for img in glob.glob(\"train\\images\\pos\\*.jpg\"):\n",
    "    file = os.path.join('labels_csv',img[17:][:-4]+'.csv')\n",
    "    if os.path.exists(file):\n",
    "        csv_file = np.genfromtxt(file, delimiter=',')\n",
    "        csv_file = csv_file.astype(\"int\")\n",
    "        if len(csv_file.shape) == 1 :\n",
    "            csv_file = np.expand_dims(csv_file, axis = 0)\n",
    "        num = 0\n",
    "        for row in range(csv_file.shape[0]):\n",
    "            i = csv_file[row,0]\n",
    "            j = csv_file[row,1]\n",
    "            h = csv_file[row,2]\n",
    "            l = csv_file[row,3]\n",
    "            d = csv_file[row,4]\n",
    "            image = io.imread(img)\n",
    "            exemple_pos = image[i:i+h+1,j:j+l+1,:]\n",
    "            exemple_pos = resize(exemple_pos, (100, 50), anti_aliasing=True) \n",
    "            plt.imsave(os.path.join('train\\images\\pos\\eco_pos',img[17:][:-4]+'_pos'+str(num)+'.jpg'), exemple_pos)\n",
    "            num = num + 1"
   ]
  },
  {
   "cell_type": "code",
   "execution_count": 21,
   "id": "1b5cce43",
   "metadata": {},
   "outputs": [
    {
     "data": {
      "text/plain": [
       "<matplotlib.image.AxesImage at 0x265d7391910>"
      ]
     },
     "execution_count": 21,
     "metadata": {},
     "output_type": "execute_result"
    },
    {
     "data": {
      "image/png": "[encoded data removed]",
      "text/plain": [
       "<Figure size 432x288 with 1 Axes>"
      ]
     },
     "metadata": {
      "needs_background": "light"
     },
     "output_type": "display_data"
    }
   ],
   "source": [
    "path = \"train\\images\\pos\\eco_pos\"\n",
    "img = io.imread(os.path.join(path,'amiotnoe_pos_009_pos0.jpg'))\n",
    "io.imshow(img)"
   ]
  },
  {
   "cell_type": "code",
   "execution_count": 22,
   "id": "39e198fe",
   "metadata": {},
   "outputs": [
    {
     "data": {
      "text/plain": [
       "3240"
      ]
     },
     "execution_count": 22,
     "metadata": {},
     "output_type": "execute_result"
    }
   ],
   "source": [
    "from skimage.feature import hog\n",
    "from skimage.transform import resize\n",
    "len(hog(resize(rgb2gray(img), (100, 50), anti_aliasing=True)))"
   ]
  },
  {
   "cell_type": "markdown",
   "id": "1ba5b8d0",
   "metadata": {},
   "source": [
    "# Fonction pour récupérer des exemples positifs pivotés"
   ]
  },
  {
   "cell_type": "code",
   "execution_count": 23,
   "id": "6433b9df",
   "metadata": {},
   "outputs": [],
   "source": [
    "for img in glob.glob(\"train\\images\\pos\\eco_pos\\*.jpg\"):\n",
    "    image = io.imread(img)\n",
    "    imageflipr = np.fliplr(image)\n",
    "    imageflipud = np.flipud(image)\n",
    "    plt.imsave(os.path.join('train\\images\\pos\\eco_pos',img[25:][:-4] + '_flipr' +'.jpg'), imageflipr)\n",
    "    plt.imsave(os.path.join('train\\images\\pos\\eco_pos',img[25:][:-4] + '_flipud' +'.jpg'), imageflipud)"
   ]
  },
  {
   "cell_type": "markdown",
   "id": "78d717d5",
   "metadata": {},
   "source": [
    "# Fonction de récupération des exemples négatifs dans les photos négatives"
   ]
  },
  {
   "cell_type": "code",
   "execution_count": 24,
   "id": "4eb53a24",
   "metadata": {},
   "outputs": [],
   "source": [
    "import random\n",
    "for img in glob.glob(\"train/images/neg/*.jpg\"):\n",
    "    image = io.imread(img)\n",
    "    for ite in range(10):\n",
    "        h = 1\n",
    "        l = 100\n",
    "        while (min(h,l)/max(h,l)) < (1/5):\n",
    "            h = random.randint(20,image.shape[0]-1)\n",
    "            l = random.randint(20,image.shape[1]-1)\n",
    "        i = random.randint(0,image.shape[0]-1-h)\n",
    "        j = random.randint(0,image.shape[1]-1-l)\n",
    "        exemple_neg = image[i:i+h+1,j:j+l+1,:]\n",
    "        exemple_neg = resize(exemple_neg, (100, 50), anti_aliasing=True)\n",
    "        plt.imsave(os.path.join('train/images/neg/eco_neg',img[17:][:-4]+'_neg'+str(ite)+'.jpg'), exemple_neg)"
   ]
  },
  {
   "cell_type": "code",
   "execution_count": 34,
   "id": "91c5beeb",
   "metadata": {},
   "outputs": [],
   "source": [
    "import random\n",
    "import numpy as np\n",
    "from skimage import io\n",
    "import csv\n",
    "import matplotlib.pyplot as plt\n",
    "import os\n",
    "from skimage.transform import resize\n",
    "import glob\n",
    "\n",
    "for img in glob.glob(\"C:/Users/user/Desktop/SY32/projet/train/images/faux_pos1/*.jpg\"):\n",
    "        image = io.imread(img)\n",
    "        image = resize(image, (100, 50), anti_aliasing=True)\n",
    "        plt.imsave(img, image)"
   ]
  },
  {
   "cell_type": "markdown",
   "id": "c51faad7",
   "metadata": {},
   "source": [
    "# Fonction de fenêtre glissante forme image pour la détection"
   ]
  },
  {
   "cell_type": "code",
   "execution_count": 1,
   "id": "ce6a7ddb",
   "metadata": {},
   "outputs": [],
   "source": [
    "from skimage.filters import sobel\n",
    "from skimage.color import label2rgb, rgb2gray\n",
    "\n",
    "def texture_non_plane(img):\n",
    "    '''fonction retournant si la matrice étudié est une texture plane grâce au filtre de sobel'''\n",
    "    edges = sobel(rgb2gray(img))\n",
    "    return (np.max(edges) > 0.2)\n",
    "\n",
    "\n",
    "#la largeur et la hauteur ont été inversé ==> à échanger\n",
    "def fenetre_glissante(image,clf):\n",
    "    img = rgb2gray(image)\n",
    "    pos_result = []\n",
    "    h = (img.shape[1]+1)//8\n",
    "    l = (img.shape[0]+1)//8\n",
    "    for inter in range(5):\n",
    "        for i in range(0,2*(img.shape[1]+1)//h):\n",
    "            for j in range(0,2*(img.shape[0]+1)//l):\n",
    "                coin_i = h*i//2\n",
    "                coin_j = l*j//2\n",
    "                fenetre = img[coin_j:(coin_j + l), coin_i:(coin_i + h)]\n",
    "                fenetre1 = resize(fenetre, (50,50), anti_aliasing=True)\n",
    "                I = hog(fenetre1)\n",
    "                #plt.imsave(os.path.join('first_try/neg',str(inter)+str(i)+str(j)+'.jpg'), fenetre)\n",
    "                if (clf.predict([I]) == 1):\n",
    "                    pos_result.append([coin_j*pow(2,inter), coin_i*pow(2,inter), l*pow(2,inter), h*pow(2,inter)])\n",
    "                    #plt.imsave(os.path.join('first_try/pos',str(inter)+str(i)+str(j)+'.jpg'), fenetre)\n",
    "        img = resize(img, (img.shape[0]//2, img.shape[1]//2), anti_aliasing=True)\n",
    "    return pos_result\n",
    "#essayer avec findcontour et drawcontour"
   ]
  },
  {
   "cell_type": "markdown",
   "id": "4c140c6f",
   "metadata": {},
   "source": [
    "# Fenêtre glissante carrés avec incorporation du score et NMS"
   ]
  },
  {
   "cell_type": "code",
   "execution_count": 7,
   "id": "8bc00729",
   "metadata": {},
   "outputs": [],
   "source": [
    "def fenetre_glissante(image,clf):\n",
    "    img = rgb2gray(image)\n",
    "    pos_result = []\n",
    "    \n",
    "    id = 0\n",
    "    \n",
    "    min_shape = min(img.shape[0], img.shape[1])\n",
    "    c = int((min_shape+1)//8)\n",
    "    \n",
    "    for inter in range(4):\n",
    "        \n",
    "        for i in range(0,2*(img.shape[0]+1)//c):\n",
    "            for j in range(0,2*(img.shape[1]+1)//c):\n",
    "                coin_i = c*i//2\n",
    "                coin_j = c*j//2\n",
    "                fenetre = img[coin_i:(coin_i + c), coin_j:(coin_j + c)]\n",
    "                fenetre1 = resize(fenetre, (50,50), anti_aliasing=True)\n",
    "                I = hog(fenetre1)\n",
    "                plt.imsave(os.path.join('first_try/neg',str(inter)+str(i)+str(j)+'.jpg'), fenetre)\n",
    "                predict = clf.decision_function([I])\n",
    "                if (predict >= 0):\n",
    "                    pos_result.append([coin_i*pow(2,inter), coin_j*pow(2,inter), c*pow(2,inter),c*pow(2,inter), predict[0], id])\n",
    "                    id = id + 1\n",
    "                    plt.imsave(os.path.join('first_try/pos',str(inter)+str(coin_i*pow(2,inter))+str(coin_j*pow(2,inter))+'.jpg'), fenetre)\n",
    "                    \n",
    "        img = resize(img, (img.shape[0]//2, img.shape[1]//2), anti_aliasing=True)\n",
    "    \n",
    "    #le 0.5 est à discuter on pourrait faire le pari de le descendre bien plus\n",
    "    pos_result = filtre_nms(pos_result, 0.5)\n",
    "        \n",
    "    return pos_result\n",
    "#essayer avec findcontour et drawcontour"
   ]
  },
  {
   "cell_type": "markdown",
   "id": "b9845b30",
   "metadata": {},
   "source": [
    "## Fonction fenêtre glissante carré avec heatmap"
   ]
  },
  {
   "cell_type": "code",
   "execution_count": 31,
   "id": "9f2bbd89",
   "metadata": {},
   "outputs": [],
   "source": [
    "def fenetre_glissante(image,clf):\n",
    "    img = rgb2gray(image)\n",
    "    img_copy = img\n",
    "    pos_result = []\n",
    "    heat_map = HeatMap(img_copy)\n",
    "    \n",
    "    id = 0\n",
    "    \n",
    "    min_shape = min(img.shape[0], img.shape[1])\n",
    "    c = int((min_shape+1)//8)\n",
    "    \n",
    "    for inter in range(4):\n",
    "        print(inter, pow(2,inter))\n",
    "        for i in range(0,2*(img.shape[0]+1)//c):\n",
    "            for j in range(0,2*(img.shape[1]+1)//c):\n",
    "                coin_i = c*i//2\n",
    "                coin_j = c*j//2\n",
    "                fenetre = img[coin_i:(coin_i + c), coin_j:(coin_j + c)]\n",
    "                fenetre1 = resize(fenetre, (50,50), anti_aliasing=True)\n",
    "                I = hog(fenetre1)\n",
    "                predict = clf.decision_function([I])\n",
    "                if (predict >= 0):\n",
    "                    heat_map.add_heat([coin_i*pow(2,inter), coin_j*pow(2,inter), c*pow(2,inter),c*pow(2,inter)])\n",
    "                    id = id + 1\n",
    "                else:\n",
    "                    pass\n",
    "                    #heat_map.remove_heat([coin_i*pow(2,inter), coin_j*pow(2,inter), c*pow(2,inter),c*pow(2,inter)])\n",
    "                    \n",
    "        img = resize(img, (img.shape[0]//2, img.shape[1]//2), anti_aliasing=True)\n",
    "    \n",
    "    #on fzit ressortir les zones\n",
    "    pos_result = heat_map.heat_boxes()\n",
    "\n",
    "    for pos in pos_result:\n",
    "        i = pos[0]\n",
    "        j = pos[1]\n",
    "        h = pos[2]\n",
    "        w = pos[3]\n",
    "        plt.imsave(os.path.join('first_try/pos',str(inter)+str(coin_i*pow(2,inter))+str(coin_j*pow(2,inter))+'.jpg'), img_copy[i:i+h+1, j:j+w+1])\n",
    "        \n",
    "    return pos_result\n",
    "#essayer avec findcontour et drawcontour"
   ]
  },
  {
   "cell_type": "markdown",
   "id": "cc6a7043",
   "metadata": {},
   "source": [
    "## Fonction fenêtre glissante rectangulaire avec heatmap"
   ]
  },
  {
   "cell_type": "code",
   "execution_count": 89,
   "id": "13a9f6ce",
   "metadata": {},
   "outputs": [],
   "source": [
    "def fenetre_glissante_rect(image,clf):\n",
    "    print(\"Go\")\n",
    "    img = rgb2gray(image)\n",
    "    img_copy = img\n",
    "    pos_result = []\n",
    "    heat_map = HeatMap(img_copy)\n",
    "    \n",
    "    id = 0\n",
    "    w = 50\n",
    "    h = 100\n",
    "    \n",
    "    for h1 in range(0,image.shape[0] - 100, 12):\n",
    "        for w1 in range(0,image.shape[1] - 50, 12):\n",
    "            h2 = h1 + 100\n",
    "            w2 = w1 + 50\n",
    "            window = img[h1:h2,w1:w2]\n",
    "            plt.imsave(os.path.join('aze/az.jpg'), window)\n",
    "            window = resize(window, (100,50), anti_aliasing=True)\n",
    "            I = hog(window)\n",
    "            predict = clf.decision_function([I])\n",
    "            if (predict >= 0):\n",
    "                heat_map.add_heat([h1,w1,100,50])\n",
    "                id = id + 1\n",
    "    #on fzit ressortir les zones\n",
    "    pos_result = heat_map.heat_boxes()\n",
    "    for pos in pos_result:\n",
    "        i = pos[0]\n",
    "        j = pos[1]\n",
    "        h = pos[2]\n",
    "        w = pos[3]\n",
    "        plt.imsave(os.path.join('first_try/pos',str(1)+str(i*pow(2,1))+str(j*pow(2,1))+'.jpg'), img_copy[i:i+h+1, j:j+w+1])\n",
    "        \n",
    "    return pos_result"
   ]
  },
  {
   "cell_type": "code",
   "execution_count": 79,
   "id": "9d74e427",
   "metadata": {},
   "outputs": [],
   "source": [
    "def fenetre_glissante(image,clf):\n",
    "    img = rgb2gray(image)\n",
    "    img_copy = img\n",
    "    pos_result = []\n",
    "    heat_map = HeatMap(img_copy)\n",
    "    \n",
    "    id = 0\n",
    "    \n",
    "    min_shape = min(img.shape[0], img.shape[1])\n",
    "    c = int((min_shape+1)//8)\n",
    "    \n",
    "    for inter in range(4):\n",
    "        print(inter, pow(2,inter))\n",
    "        for i in range(0,2*(img.shape[0]+1)//c):\n",
    "            for j in range(0,2*(img.shape[1]+1)//c):\n",
    "                coin_i = c*i//2\n",
    "                coin_j = c*j//2\n",
    "                fenetre = img[coin_i:(coin_i + c), coin_j:(coin_j + c)]\n",
    "                fenetre1 = resize(fenetre, (50,50), anti_aliasing=True)\n",
    "                I = hog(fenetre1)\n",
    "                predict = clf.decision_function([I])\n",
    "                if (predict >= 0):\n",
    "                    heat_map.add_heat([coin_i*pow(2,inter), coin_j*pow(2,inter), c*pow(2,inter),c*pow(2,inter)])\n",
    "                    id = id + 1\n",
    "                else:\n",
    "                    pass\n",
    "                    #heat_map.remove_heat([coin_i*pow(2,inter), coin_j*pow(2,inter), c*pow(2,inter),c*pow(2,inter)])\n",
    "                    \n",
    "        img = resize(img, (img.shape[0]//2, img.shape[1]//2), anti_aliasing=True)\n",
    "    \n",
    "    #on fzit ressortir les zones\n",
    "    pos_result = heat_map.heat_boxes()\n",
    "\n",
    "    for pos in pos_result:\n",
    "        i = pos[0]\n",
    "        j = pos[1]\n",
    "        h = pos[2]\n",
    "        w = pos[3]\n",
    "        plt.imsave(os.path.join('first_try/pos',str(inter)+str(coin_i*pow(2,inter))+str(coin_j*pow(2,inter))+'.jpg'), img_copy[i:i+h+1, j:j+w+1])\n",
    "        \n",
    "    return pos_result\n",
    "#essayer avec findcontour et drawcontour"
   ]
  },
  {
   "cell_type": "markdown",
   "id": "d0b5f0af",
   "metadata": {},
   "source": [
    "# Fonction NMS"
   ]
  },
  {
   "cell_type": "code",
   "execution_count": 6,
   "id": "f1ee4ea5",
   "metadata": {},
   "outputs": [],
   "source": [
    "def filtre_nms(results_in, tresh_iou = 0.5):\n",
    "    results_filtred = []\n",
    "    results_out = results_in\n",
    "    k1 = 0\n",
    "    for result in results_in:\n",
    "        max_score_indice = k1\n",
    "        k2 = 0\n",
    "        for subrow in results_in:\n",
    "            if k2 != k1:\n",
    "                recouvrement = IoU(subrow[0], subrow[1], subrow[2], subrow[3], result[0], result[1], result[2], result[3])\n",
    "                if (recouvrement >= tresh_iou):\n",
    "                    if subrow[4]>ref[4]:\n",
    "                        del results_out[max_score_indice]\n",
    "                        max_score_indice = k2\n",
    "                    else :\n",
    "                        del results_out[k2]\n",
    "            k2 = k2 + 1\n",
    "        k1 = k1 + 1\n",
    "    return results_out"
   ]
  },
  {
   "cell_type": "markdown",
   "id": "4f24beb2",
   "metadata": {},
   "source": [
    "# Classe heatmap"
   ]
  },
  {
   "cell_type": "code",
   "execution_count": 69,
   "id": "a49c4962",
   "metadata": {},
   "outputs": [],
   "source": [
    "from sklearn.preprocessing import MinMaxScaler\n",
    "import cv2\n",
    "\n",
    "class HeatMap():\n",
    "    \n",
    "    def __init__(self, original_image):\n",
    "        self.image = np.zeros(original_image.shape[:2])\n",
    "        \n",
    "    def add_heat(self, coords):\n",
    "        i = coords[0]\n",
    "        j = coords[1]\n",
    "        h = coords[2]\n",
    "        w = coords[3]\n",
    "        self.image[i:i+h+1,j:j+w+1] = self.image[i:i+h+1,j:j+w+1] + 30\n",
    "        \n",
    "    '''def remove_heat(self, coords):\n",
    "        i = coords[0]\n",
    "        j = coords[1]\n",
    "        h = coords[2]\n",
    "        w = coords[3]\n",
    "        \n",
    "        self.image[i:i+h+1,j:j+w+1] = self.image[i:i+h+1,j:j+w+1] - 30'''\n",
    "        \n",
    "    def heat_zones(self):\n",
    "        scaler = MinMaxScaler()\n",
    "        \n",
    "        self.image = scaler.fit_transform(self.image)\n",
    "        \n",
    "        self.image = np.asarray(self.image * 255).astype(int)\n",
    "        \n",
    "        self.image = cv2.inRange(self.image,170,255)\n",
    "        \n",
    "        return self.image\n",
    "    \n",
    "    def heat_boxes(self):\n",
    "        results = []\n",
    "        heat_image = self.heat_zones()\n",
    "        plt.imsave(os.path.join('first_try/','heat_map.jpg'), heat_image)\n",
    "        contours, hierarchy = cv2.findContours(self.image, cv2.RETR_LIST, cv2.CHAIN_APPROX_SIMPLE)\n",
    "        \n",
    "        idx = 0\n",
    "        for cnt in contours:\n",
    "            j,i,w,h = cv2.boundingRect(cnt)\n",
    "            results.append([i,j,h,w])\n",
    "\n",
    "        return results"
   ]
  },
  {
   "cell_type": "code",
   "execution_count": 14,
   "id": "fafdc697",
   "metadata": {},
   "outputs": [],
   "source": [
    "heatmap = HeatMap(img)"
   ]
  },
  {
   "cell_type": "markdown",
   "id": "170a47bd",
   "metadata": {},
   "source": [
    "# Fonction de recherche utilisant le hog"
   ]
  },
  {
   "cell_type": "code",
   "execution_count": 115,
   "id": "8defc0e4",
   "metadata": {},
   "outputs": [],
   "source": [
    "def hog_glissante(img, clf):\n",
    "    pos_result = []  \n",
    "    h = (img.shape[0]+1)//8\n",
    "    l = (img.shape[1]+1)//8\n",
    "    for inter in range(5):\n",
    "        hist, hog_img = hog(rgb2gray(img), visualize=True) \n",
    "        for i in range(0,2*(img.shape[0]+1)//h):\n",
    "            for j in range(0,2*(img.shape[1]+1)//l):\n",
    "                coin_i = h*i//2\n",
    "                coin_j = l*j//2\n",
    "                fenetre = hog_img[coin_i:(coin_i + h), coin_j:(coin_j + l)]\n",
    "                #plt.imsave(os.path.join('first_try/neg',str(inter)+str(i)+str(j)+'.jpg'), fenetre)\n",
    "                fenetre1 = resize(fenetre, (50,50), anti_aliasing=True)\n",
    "                if (clf.predict([fenetre1.flatten()]) == 1):\n",
    "                    pos_result.append([coin_i*(inter+1), coin_j*(inter+1), h*(inter+1), l*(inter+1)])\n",
    "                    #plt.imsave(os.path.join('first_try/pos',str(inter)+str(i)+str(j)+'.jpg'), fenetre)\n",
    "        img = resize(img, (img.shape[0]//2, img.shape[1]//2), anti_aliasing=True)\n",
    "    return pos_result\n",
    "#essayer avec findcontour et drawcontour"
   ]
  },
  {
   "cell_type": "markdown",
   "id": "9d62c31f",
   "metadata": {},
   "source": [
    "# Programme pour entraîner notre classifieur"
   ]
  },
  {
   "cell_type": "code",
   "execution_count": 30,
   "id": "8e94232b",
   "metadata": {},
   "outputs": [
    {
     "name": "stdout",
     "output_type": "stream",
     "text": [
      "\n"
     ]
    },
    {
     "data": {
      "text/plain": [
       "SVC()"
      ]
     },
     "execution_count": 30,
     "metadata": {},
     "output_type": "execute_result"
    }
   ],
   "source": [
    "import numpy as np\n",
    "from skimage import io\n",
    "import csv\n",
    "import matplotlib.pyplot as plt\n",
    "import os\n",
    "from skimage.transform import resize\n",
    "import glob\n",
    "from sklearn import svm\n",
    "from skimage.feature import hog\n",
    "from skimage.color import rgb2gray\n",
    "\n",
    "X_train = np.zeros((8630,3240))\n",
    "i=0\n",
    "taille_doss=5670\n",
    "\n",
    "for img in glob.glob(\"train/images/pos/eco_pos/*.jpg\"):\n",
    "    image = io.imread(img)\n",
    "    I = hog(rgb2gray(image))\n",
    "    X_train[i,:]=I\n",
    "    i = i + 1\n",
    "    \n",
    "nb_pos = i\n",
    "    \n",
    "for img in glob.glob(\"train/images/neg/eco_neg/*.jpg\"):\n",
    "    image = io.imread(img)\n",
    "    I = hog(rgb2gray(image))\n",
    "    X_train[i,:]=I\n",
    "    i = i + 1\n",
    "    \n",
    "nb_neg = i - nb_pos\n",
    "\n",
    "y_train = np.zeros(i)\n",
    "\n",
    "for j in range(nb_pos):\n",
    "    y_train[j] = 1\n",
    "    \n",
    "for j in range(nb_pos, i, 1):\n",
    "    y_train[j] = -1\n",
    "    \n",
    "print()\n",
    "    \n",
    "clf = svm.SVC()\n",
    "clf.fit(X_train, y_train)"
   ]
  },
  {
   "cell_type": "code",
   "execution_count": 90,
   "id": "7ef99617",
   "metadata": {},
   "outputs": [
    {
     "name": "stdout",
     "output_type": "stream",
     "text": [
      "(2822, 2116, 3)\n",
      "Go\n",
      "[[2700, 2004, 65, 51], [2688, 468, 5, 15], [2664, 0, 89, 12], [2632, 1874, 9, 11], [2616, 783, 5, 9], [2592, 1440, 17, 12], [2592, 804, 17, 3], [2592, 783, 17, 9], [2568, 1980, 113, 39], [2568, 759, 41, 12], [2560, 527, 9, 17], [2556, 2064, 5, 15], [2556, 2040, 5, 3], [2556, 1992, 5, 12], [2536, 527, 9, 17], [2520, 1095, 125, 24], [2508, 1404, 5, 12], [2496, 1404, 5, 3], [2496, 291, 29, 9], [2484, 1968, 5, 3], [2484, 1932, 5, 3], [2484, 504, 5, 3], [2472, 1956, 5, 15], [2472, 1932, 5, 3], [2472, 1848, 5, 3], [2472, 1392, 17, 15], [2472, 1308, 5, 15], [2472, 1107, 29, 12], [2472, 468, 101, 24], [2448, 1128, 161, 84], [2448, 1095, 5, 24], [2428, 1343, 9, 5], [2424, 303, 29, 9], [2424, 288, 29, 12], [2400, 1848, 65, 3], [2388, 1956, 17, 3], [2388, 1860, 5, 3], [2376, 1308, 125, 72], [2376, 1047, 5, 9], [2376, 1035, 5, 9], [2364, 1908, 5, 3], [2364, 1860, 5, 3], [2352, 1908, 5, 3], [2344, 470, 9, 23], [2340, 552, 5, 15], [2332, 995, 9, 5], [2328, 552, 5, 15], [2316, 1908, 29, 3], [2316, 504, 305, 75], [2304, 1908, 5, 3], [2304, 1020, 5, 3], [2296, 455, 9, 38], [2292, 552, 5, 15], [2292, 519, 5, 9], [2268, 972, 125, 51], [2256, 1788, 473, 135], [2244, 999, 5, 12], [2244, 579, 17, 12], [2232, 1440, 5, 3], [2232, 444, 209, 63], [2220, 1440, 5, 3], [2220, 1284, 125, 72], [2220, 1128, 29, 15], [2208, 1335, 5, 9], [2196, 1992, 5, 3], [2196, 1743, 29, 9], [2196, 543, 77, 24], [2196, 519, 41, 9], [2184, 1743, 5, 9], [2184, 1359, 125, 72], [2160, 1704, 53, 15], [2160, 1200, 101, 63], [2136, 999, 65, 45], [2124, 1704, 5, 3], [2124, 684, 5, 3], [2124, 588, 17, 3], [2112, 732, 5, 3], [2112, 720, 5, 3], [2112, 696, 5, 12], [2112, 684, 5, 3], [2100, 1503, 5, 24], [2100, 1488, 5, 3], [2088, 1587, 53, 9], [2088, 1575, 53, 9], [2088, 1563, 53, 9], [2088, 1503, 5, 24], [2080, 1478, 9, 11], [2080, 899, 9, 5], [2076, 2043, 5, 36], [2076, 1503, 5, 24], [2064, 2043, 5, 24], [2052, 2043, 5, 24], [2052, 696, 161, 231], [2044, 1478, 9, 11], [2040, 1920, 5, 3], [2028, 2043, 17, 24], [2028, 1428, 41, 3], [2020, 1679, 9, 5], [2016, 1347, 113, 72], [2016, 684, 5, 3], [2016, 648, 5, 3], [2004, 1695, 5, 9], [2004, 1683, 5, 9], [1992, 1656, 125, 60], [1992, 1503, 5, 24], [1992, 1467, 101, 60], [1992, 1440, 89, 24], [1992, 1428, 5, 3], [1980, 1440, 5, 3], [1968, 1575, 29, 9], [1968, 1563, 29, 9], [1968, 576, 125, 75], [1944, 1512, 5, 3], [1932, 288, 101, 12], [1932, 264, 101, 15], [1932, 240, 101, 15], [1920, 1668, 5, 3], [1908, 819, 5, 9], [1896, 1551, 5, 21], [1896, 891, 5, 9], [1896, 879, 5, 9], [1884, 891, 5, 9], [1884, 879, 5, 9], [1884, 831, 5, 9], [1872, 1956, 77, 12], [1872, 891, 5, 9], [1872, 879, 5, 9], [1860, 891, 5, 9], [1860, 879, 5, 9], [1860, 864, 65, 12], [1860, 819, 29, 9], [1852, 1343, 9, 5], [1848, 1551, 5, 12], [1848, 1308, 89, 48], [1848, 891, 5, 9], [1848, 879, 5, 9], [1848, 864, 5, 12], [1848, 351, 185, 96], [1836, 1644, 89, 51], [1836, 1164, 29, 3], [1836, 1116, 53, 39], [1836, 891, 5, 9], [1836, 879, 5, 9], [1836, 867, 5, 9], [1828, 638, 9, 11], [1824, 1680, 5, 15], [1824, 1656, 5, 12], [1824, 1164, 5, 3], [1824, 891, 5, 9], [1824, 879, 5, 9], [1824, 867, 5, 9], [1816, 698, 9, 11], [1812, 1692, 5, 3], [1812, 891, 5, 9], [1812, 879, 5, 9], [1812, 867, 5, 9], [1804, 698, 9, 11], [1800, 1692, 5, 3], [1800, 1656, 5, 12], [1800, 960, 53, 15], [1800, 891, 5, 9], [1800, 879, 5, 9], [1800, 867, 5, 9], [1792, 998, 45, 35], [1788, 1116, 41, 36], [1788, 891, 5, 9], [1788, 879, 5, 9], [1788, 867, 5, 9], [1776, 1692, 5, 3], [1776, 1656, 5, 12], [1776, 891, 5, 9], [1776, 879, 5, 9], [1776, 867, 5, 9], [1764, 984, 5, 15], [1764, 891, 5, 9], [1764, 879, 5, 9], [1764, 867, 5, 9], [1752, 1404, 89, 51], [1752, 984, 161, 123], [1752, 903, 161, 12], [1752, 147, 65, 9], [1744, 791, 9, 5], [1744, 758, 9, 14], [1740, 1512, 29, 3], [1740, 1407, 5, 9], [1740, 1239, 53, 36], [1740, 603, 125, 57], [1740, 588, 41, 12], [1732, 758, 9, 14], [1728, 1704, 5, 3], [1728, 1512, 5, 3], [1728, 1251, 5, 9], [1728, 1239, 5, 9], [1720, 758, 9, 14], [1716, 588, 17, 12], [1716, 216, 77, 15], [1716, 147, 5, 9], [1708, 758, 9, 14], [1704, 1755, 29, 12], [1704, 1740, 29, 12], [1696, 758, 9, 14], [1692, 519, 29, 9], [1692, 240, 77, 27], [1684, 758, 9, 14], [1680, 1743, 17, 9], [1680, 603, 17, 9], [1680, 588, 17, 12], [1672, 758, 9, 14], [1668, 1512, 29, 15], [1660, 758, 9, 14], [1656, 1743, 17, 9], [1656, 1251, 5, 9], [1656, 1239, 5, 9], [1648, 791, 9, 5], [1644, 1587, 5, 9], [1636, 791, 9, 5], [1632, 1755, 65, 24], [1632, 1251, 17, 9], [1632, 1239, 17, 9], [1624, 791, 9, 5], [1612, 791, 9, 5], [1608, 711, 5, 9], [1600, 791, 9, 5], [1596, 1764, 5, 3], [1596, 1695, 5, 9], [1596, 1683, 5, 9], [1596, 1416, 5, 36], [1596, 711, 5, 9], [1596, 675, 29, 12], [1596, 648, 29, 12], [1584, 1416, 5, 48], [1584, 696, 5, 3], [1584, 675, 5, 12], [1576, 1595, 21, 5], [1572, 852, 17, 12], [1572, 432, 53, 24], [1564, 719, 9, 29], [1560, 1284, 5, 3], [1560, 696, 5, 3], [1548, 1587, 89, 21], [1548, 1572, 65, 12], [1548, 1284, 5, 3], [1548, 771, 17, 9], [1548, 696, 5, 3], [1536, 1707, 5, 9], [1536, 1692, 17, 12], [1536, 771, 5, 9], [1524, 1707, 5, 9], [1524, 1695, 5, 9], [1524, 783, 245, 24], [1512, 795, 5, 12], [1500, 1707, 17, 9], [1500, 1695, 17, 9], [1500, 795, 5, 12], [1488, 900, 29, 3], [1488, 852, 41, 12], [1476, 1695, 5, 9], [1476, 900, 5, 3], [1476, 132, 65, 51], [1464, 1095, 5, 12], [1464, 900, 5, 3], [1464, 768, 17, 3], [1464, 87, 89, 24], [1452, 1236, 77, 51], [1452, 984, 29, 12], [1452, 900, 5, 3], [1452, 720, 5, 39], [1452, 99, 5, 9], [1444, 1118, 21, 11], [1440, 159, 17, 24], [1440, 99, 5, 9], [1428, 1944, 41, 3], [1428, 999, 65, 24], [1428, 132, 41, 24], [1416, 696, 461, 84], [1404, 1416, 173, 63], [1392, 795, 53, 12], [1392, 783, 53, 9], [1380, 795, 5, 12], [1380, 783, 5, 9], [1380, 720, 77, 60], [1368, 1095, 101, 48], [1356, 1575, 17, 9], [1356, 1563, 17, 9], [1356, 768, 5, 12], [1356, 132, 53, 24], [1356, 36, 29, 12], [1344, 783, 29, 24], [1344, 99, 65, 9], [1332, 891, 5, 12], [1320, 1632, 5, 15], [1308, 1920, 113, 51], [1308, 1776, 41, 27], [1308, 891, 17, 9], [1308, 795, 5, 12], [1296, 1956, 5, 3], [1296, 1704, 185, 63], [1296, 852, 185, 24], [1288, 1571, 9, 5], [1284, 795, 5, 12], [1272, 1923, 17, 36], [1272, 795, 5, 12], [1272, 312, 197, 63], [1272, 243, 41, 12], [1224, 663, 5, 12], [1212, 612, 161, 99], [1200, 435, 5, 9], [1188, 1920, 65, 39], [1188, 1095, 101, 24], [1188, 147, 5, 9], [1188, 132, 5, 3], [1188, 120, 5, 3], [1180, 59, 21, 14], [1176, 1467, 5, 24], [1176, 1440, 5, 24], [1176, 243, 125, 96], [1164, 1467, 5, 24], [1164, 1440, 5, 24], [1152, 1467, 5, 24], [1152, 1440, 5, 24], [1140, 1788, 5, 3], [1116, 1071, 5, 12], [1108, 1043, 9, 5], [1104, 1071, 5, 12], [1104, 924, 77, 51], [1104, 435, 53, 9], [1096, 1043, 9, 5], [1092, 1095, 77, 48], [1092, 1071, 5, 12], [1092, 99, 5, 9], [1084, 1043, 9, 5], [1080, 1512, 233, 135], [1080, 1071, 5, 12], [1080, 588, 5, 3], [1072, 1043, 9, 5], [1068, 1071, 5, 12], [1068, 207, 101, 48], [1060, 1043, 9, 5], [1056, 1071, 5, 12], [1056, 768, 5, 3], [1044, 360, 89, 51], [1044, 0, 281, 219], [1032, 1512, 17, 39], [1032, 1032, 113, 24], [1020, 1512, 5, 27], [1020, 768, 29, 3], [1008, 564, 17, 3], [996, 783, 89, 48], [996, 579, 77, 12], [984, 840, 125, 24], [960, 444, 5, 12], [936, 720, 5, 3], [924, 351, 65, 9], [888, 720, 5, 3], [888, 351, 29, 9], [852, 1503, 5, 24], [852, 720, 305, 39], [852, 267, 17, 12], [840, 2064, 77, 51], [828, 1503, 17, 24], [816, 747, 5, 9], [816, 324, 29, 3], [792, 312, 53, 3], [768, 804, 5, 3], [768, 312, 5, 3], [756, 351, 101, 12], [756, 312, 5, 3], [732, 579, 53, 12], [708, 579, 5, 12], [696, 795, 65, 12], [696, 99, 5, 9], [684, 747, 113, 24], [684, 720, 77, 3], [684, 99, 5, 9], [672, 759, 5, 12], [672, 699, 5, 9], [672, 675, 5, 21], [664, 275, 9, 17], [660, 720, 17, 3], [660, 699, 5, 9], [660, 675, 5, 21], [648, 747, 5, 9], [648, 699, 5, 9], [648, 675, 5, 21], [648, 252, 101, 51], [624, 747, 5, 9], [612, 1491, 5, 12], [612, 747, 5, 9], [600, 1491, 5, 12], [592, 707, 21, 14], [588, 0, 101, 24], [580, 251, 33, 17], [576, 747, 5, 9], [568, 707, 9, 14], [556, 707, 9, 14], [552, 747, 17, 12], [540, 579, 29, 12], [540, 552, 29, 3], [540, 240, 101, 51], [532, 695, 9, 5], [528, 2052, 17, 27], [480, 1452, 113, 51], [468, 747, 77, 24], [468, 699, 5, 9], [468, 675, 5, 21], [456, 759, 5, 12], [444, 759, 5, 12], [444, 747, 5, 9], [432, 747, 5, 9], [420, 747, 5, 9], [408, 747, 5, 9], [396, 747, 5, 9], [396, 672, 257, 51], [396, 672, 65, 36], [384, 747, 5, 9], [384, 720, 5, 3], [360, 747, 5, 9], [348, 747, 5, 9], [324, 1428, 41, 51], [312, 1428, 5, 24], [300, 1428, 5, 24], [264, 1956, 17, 27], [252, 1980, 269, 123], [252, 1764, 101, 39], [216, 2091, 29, 12], [204, 732, 29, 3], [192, 747, 77, 9], [192, 564, 5, 3], [180, 588, 17, 3], [156, 1008, 89, 12], [144, 984, 89, 15], [132, 1956, 125, 60], [108, 624, 5, 3], [96, 543, 89, 36], [84, 1359, 53, 9], [84, 1347, 53, 9], [84, 1335, 53, 9], [84, 351, 89, 9], [72, 1755, 53, 24], [72, 303, 89, 36], [72, 291, 89, 9]]\n"
     ]
    }
   ],
   "source": [
    "path = \"train\\images\\pos\"\n",
    "img = io.imread(os.path.join(path,'wahartlo_pos_007.jpg'))\n",
    "#h,I = hog(rgb2gray(img), visualize=True)\n",
    "print(img.shape)\n",
    "pos = fenetre_glissante_rect(img,clf)\n",
    "print(pos)\n",
    "for p in pos:\n",
    "    i = p[0]\n",
    "    j = p[1]\n",
    "    h = p[2]\n",
    "    w = p[3]\n",
    "    img = cv2.rectangle(img, (j,i),(j+w,i+w), (255), 1)\n",
    "#clf.predict([I.flatten()])"
   ]
  },
  {
   "cell_type": "code",
   "execution_count": 61,
   "id": "655adcb3",
   "metadata": {},
   "outputs": [
    {
     "ename": "ValueError",
     "evalue": "Expected 2D array, got 1D array instead:\narray=[0.17609875 0.23298514 0.27868152 ... 0.02913939 0.03498776 0.032374  ].\nReshape your data either using array.reshape(-1, 1) if your data has a single feature or array.reshape(1, -1) if it contains a single sample.",
     "output_type": "error",
     "traceback": [
      "\u001b[1;31m---------------------------------------------------------------------------\u001b[0m",
      "\u001b[1;31mValueError\u001b[0m                                Traceback (most recent call last)",
      "\u001b[1;32mc:\\Users\\theot\\OneDrive\\UTC P22\\SY32\\projet_ecocup\\Projet.ipynb Cell 33'\u001b[0m in \u001b[0;36m<cell line: 1>\u001b[1;34m()\u001b[0m\n\u001b[1;32m----> <a href='vscode-notebook-cell:/c%3A/Users/theot/OneDrive/UTC%20P22/SY32/projet_ecocup/Projet.ipynb#ch0000037?line=0'>1</a>\u001b[0m clf\u001b[39m.\u001b[39;49mpredict(hog(rgb2gray(io\u001b[39m.\u001b[39;49mimread(\u001b[39m\"\u001b[39;49m\u001b[39mtrain/images/pos/eco_pos/amagnero_pos_001_pos0_flipr_flipr.jpg\u001b[39;49m\u001b[39m\"\u001b[39;49m))))\n",
      "File \u001b[1;32mc:\\Users\\theot\\anaconda3\\envs\\envSY\\lib\\site-packages\\sklearn\\svm\\_base.py:791\u001b[0m, in \u001b[0;36mBaseSVC.predict\u001b[1;34m(self, X)\u001b[0m\n\u001b[0;32m    <a href='file:///c%3A/Users/theot/anaconda3/envs/envSY/lib/site-packages/sklearn/svm/_base.py?line=788'>789</a>\u001b[0m     y \u001b[39m=\u001b[39m np\u001b[39m.\u001b[39margmax(\u001b[39mself\u001b[39m\u001b[39m.\u001b[39mdecision_function(X), axis\u001b[39m=\u001b[39m\u001b[39m1\u001b[39m)\n\u001b[0;32m    <a href='file:///c%3A/Users/theot/anaconda3/envs/envSY/lib/site-packages/sklearn/svm/_base.py?line=789'>790</a>\u001b[0m \u001b[39melse\u001b[39;00m:\n\u001b[1;32m--> <a href='file:///c%3A/Users/theot/anaconda3/envs/envSY/lib/site-packages/sklearn/svm/_base.py?line=790'>791</a>\u001b[0m     y \u001b[39m=\u001b[39m \u001b[39msuper\u001b[39;49m()\u001b[39m.\u001b[39;49mpredict(X)\n\u001b[0;32m    <a href='file:///c%3A/Users/theot/anaconda3/envs/envSY/lib/site-packages/sklearn/svm/_base.py?line=791'>792</a>\u001b[0m \u001b[39mreturn\u001b[39;00m \u001b[39mself\u001b[39m\u001b[39m.\u001b[39mclasses_\u001b[39m.\u001b[39mtake(np\u001b[39m.\u001b[39masarray(y, dtype\u001b[39m=\u001b[39mnp\u001b[39m.\u001b[39mintp))\n",
      "File \u001b[1;32mc:\\Users\\theot\\anaconda3\\envs\\envSY\\lib\\site-packages\\sklearn\\svm\\_base.py:414\u001b[0m, in \u001b[0;36mBaseLibSVM.predict\u001b[1;34m(self, X)\u001b[0m\n\u001b[0;32m    <a href='file:///c%3A/Users/theot/anaconda3/envs/envSY/lib/site-packages/sklearn/svm/_base.py?line=397'>398</a>\u001b[0m \u001b[39mdef\u001b[39;00m \u001b[39mpredict\u001b[39m(\u001b[39mself\u001b[39m, X):\n\u001b[0;32m    <a href='file:///c%3A/Users/theot/anaconda3/envs/envSY/lib/site-packages/sklearn/svm/_base.py?line=398'>399</a>\u001b[0m     \u001b[39m\"\"\"Perform regression on samples in X.\u001b[39;00m\n\u001b[0;32m    <a href='file:///c%3A/Users/theot/anaconda3/envs/envSY/lib/site-packages/sklearn/svm/_base.py?line=399'>400</a>\u001b[0m \n\u001b[0;32m    <a href='file:///c%3A/Users/theot/anaconda3/envs/envSY/lib/site-packages/sklearn/svm/_base.py?line=400'>401</a>\u001b[0m \u001b[39m    For an one-class model, +1 (inlier) or -1 (outlier) is returned.\u001b[39;00m\n\u001b[1;32m   (...)\u001b[0m\n\u001b[0;32m    <a href='file:///c%3A/Users/theot/anaconda3/envs/envSY/lib/site-packages/sklearn/svm/_base.py?line=411'>412</a>\u001b[0m \u001b[39m        The predicted values.\u001b[39;00m\n\u001b[0;32m    <a href='file:///c%3A/Users/theot/anaconda3/envs/envSY/lib/site-packages/sklearn/svm/_base.py?line=412'>413</a>\u001b[0m \u001b[39m    \"\"\"\u001b[39;00m\n\u001b[1;32m--> <a href='file:///c%3A/Users/theot/anaconda3/envs/envSY/lib/site-packages/sklearn/svm/_base.py?line=413'>414</a>\u001b[0m     X \u001b[39m=\u001b[39m \u001b[39mself\u001b[39;49m\u001b[39m.\u001b[39;49m_validate_for_predict(X)\n\u001b[0;32m    <a href='file:///c%3A/Users/theot/anaconda3/envs/envSY/lib/site-packages/sklearn/svm/_base.py?line=414'>415</a>\u001b[0m     predict \u001b[39m=\u001b[39m \u001b[39mself\u001b[39m\u001b[39m.\u001b[39m_sparse_predict \u001b[39mif\u001b[39;00m \u001b[39mself\u001b[39m\u001b[39m.\u001b[39m_sparse \u001b[39melse\u001b[39;00m \u001b[39mself\u001b[39m\u001b[39m.\u001b[39m_dense_predict\n\u001b[0;32m    <a href='file:///c%3A/Users/theot/anaconda3/envs/envSY/lib/site-packages/sklearn/svm/_base.py?line=415'>416</a>\u001b[0m     \u001b[39mreturn\u001b[39;00m predict(X)\n",
      "File \u001b[1;32mc:\\Users\\theot\\anaconda3\\envs\\envSY\\lib\\site-packages\\sklearn\\svm\\_base.py:592\u001b[0m, in \u001b[0;36mBaseLibSVM._validate_for_predict\u001b[1;34m(self, X)\u001b[0m\n\u001b[0;32m    <a href='file:///c%3A/Users/theot/anaconda3/envs/envSY/lib/site-packages/sklearn/svm/_base.py?line=588'>589</a>\u001b[0m check_is_fitted(\u001b[39mself\u001b[39m)\n\u001b[0;32m    <a href='file:///c%3A/Users/theot/anaconda3/envs/envSY/lib/site-packages/sklearn/svm/_base.py?line=590'>591</a>\u001b[0m \u001b[39mif\u001b[39;00m \u001b[39mnot\u001b[39;00m callable(\u001b[39mself\u001b[39m\u001b[39m.\u001b[39mkernel):\n\u001b[1;32m--> <a href='file:///c%3A/Users/theot/anaconda3/envs/envSY/lib/site-packages/sklearn/svm/_base.py?line=591'>592</a>\u001b[0m     X \u001b[39m=\u001b[39m \u001b[39mself\u001b[39;49m\u001b[39m.\u001b[39;49m_validate_data(\n\u001b[0;32m    <a href='file:///c%3A/Users/theot/anaconda3/envs/envSY/lib/site-packages/sklearn/svm/_base.py?line=592'>593</a>\u001b[0m         X,\n\u001b[0;32m    <a href='file:///c%3A/Users/theot/anaconda3/envs/envSY/lib/site-packages/sklearn/svm/_base.py?line=593'>594</a>\u001b[0m         accept_sparse\u001b[39m=\u001b[39;49m\u001b[39m\"\u001b[39;49m\u001b[39mcsr\u001b[39;49m\u001b[39m\"\u001b[39;49m,\n\u001b[0;32m    <a href='file:///c%3A/Users/theot/anaconda3/envs/envSY/lib/site-packages/sklearn/svm/_base.py?line=594'>595</a>\u001b[0m         dtype\u001b[39m=\u001b[39;49mnp\u001b[39m.\u001b[39;49mfloat64,\n\u001b[0;32m    <a href='file:///c%3A/Users/theot/anaconda3/envs/envSY/lib/site-packages/sklearn/svm/_base.py?line=595'>596</a>\u001b[0m         order\u001b[39m=\u001b[39;49m\u001b[39m\"\u001b[39;49m\u001b[39mC\u001b[39;49m\u001b[39m\"\u001b[39;49m,\n\u001b[0;32m    <a href='file:///c%3A/Users/theot/anaconda3/envs/envSY/lib/site-packages/sklearn/svm/_base.py?line=596'>597</a>\u001b[0m         accept_large_sparse\u001b[39m=\u001b[39;49m\u001b[39mFalse\u001b[39;49;00m,\n\u001b[0;32m    <a href='file:///c%3A/Users/theot/anaconda3/envs/envSY/lib/site-packages/sklearn/svm/_base.py?line=597'>598</a>\u001b[0m         reset\u001b[39m=\u001b[39;49m\u001b[39mFalse\u001b[39;49;00m,\n\u001b[0;32m    <a href='file:///c%3A/Users/theot/anaconda3/envs/envSY/lib/site-packages/sklearn/svm/_base.py?line=598'>599</a>\u001b[0m     )\n\u001b[0;32m    <a href='file:///c%3A/Users/theot/anaconda3/envs/envSY/lib/site-packages/sklearn/svm/_base.py?line=600'>601</a>\u001b[0m \u001b[39mif\u001b[39;00m \u001b[39mself\u001b[39m\u001b[39m.\u001b[39m_sparse \u001b[39mand\u001b[39;00m \u001b[39mnot\u001b[39;00m sp\u001b[39m.\u001b[39misspmatrix(X):\n\u001b[0;32m    <a href='file:///c%3A/Users/theot/anaconda3/envs/envSY/lib/site-packages/sklearn/svm/_base.py?line=601'>602</a>\u001b[0m     X \u001b[39m=\u001b[39m sp\u001b[39m.\u001b[39mcsr_matrix(X)\n",
      "File \u001b[1;32mc:\\Users\\theot\\anaconda3\\envs\\envSY\\lib\\site-packages\\sklearn\\base.py:566\u001b[0m, in \u001b[0;36mBaseEstimator._validate_data\u001b[1;34m(self, X, y, reset, validate_separately, **check_params)\u001b[0m\n\u001b[0;32m    <a href='file:///c%3A/Users/theot/anaconda3/envs/envSY/lib/site-packages/sklearn/base.py?line=563'>564</a>\u001b[0m     \u001b[39mraise\u001b[39;00m \u001b[39mValueError\u001b[39;00m(\u001b[39m\"\u001b[39m\u001b[39mValidation should be done on X, y or both.\u001b[39m\u001b[39m\"\u001b[39m)\n\u001b[0;32m    <a href='file:///c%3A/Users/theot/anaconda3/envs/envSY/lib/site-packages/sklearn/base.py?line=564'>565</a>\u001b[0m \u001b[39melif\u001b[39;00m \u001b[39mnot\u001b[39;00m no_val_X \u001b[39mand\u001b[39;00m no_val_y:\n\u001b[1;32m--> <a href='file:///c%3A/Users/theot/anaconda3/envs/envSY/lib/site-packages/sklearn/base.py?line=565'>566</a>\u001b[0m     X \u001b[39m=\u001b[39m check_array(X, \u001b[39m*\u001b[39;49m\u001b[39m*\u001b[39;49mcheck_params)\n\u001b[0;32m    <a href='file:///c%3A/Users/theot/anaconda3/envs/envSY/lib/site-packages/sklearn/base.py?line=566'>567</a>\u001b[0m     out \u001b[39m=\u001b[39m X\n\u001b[0;32m    <a href='file:///c%3A/Users/theot/anaconda3/envs/envSY/lib/site-packages/sklearn/base.py?line=567'>568</a>\u001b[0m \u001b[39melif\u001b[39;00m no_val_X \u001b[39mand\u001b[39;00m \u001b[39mnot\u001b[39;00m no_val_y:\n",
      "File \u001b[1;32mc:\\Users\\theot\\anaconda3\\envs\\envSY\\lib\\site-packages\\sklearn\\utils\\validation.py:769\u001b[0m, in \u001b[0;36mcheck_array\u001b[1;34m(array, accept_sparse, accept_large_sparse, dtype, order, copy, force_all_finite, ensure_2d, allow_nd, ensure_min_samples, ensure_min_features, estimator)\u001b[0m\n\u001b[0;32m    <a href='file:///c%3A/Users/theot/anaconda3/envs/envSY/lib/site-packages/sklearn/utils/validation.py?line=766'>767</a>\u001b[0m     \u001b[39m# If input is 1D raise error\u001b[39;00m\n\u001b[0;32m    <a href='file:///c%3A/Users/theot/anaconda3/envs/envSY/lib/site-packages/sklearn/utils/validation.py?line=767'>768</a>\u001b[0m     \u001b[39mif\u001b[39;00m array\u001b[39m.\u001b[39mndim \u001b[39m==\u001b[39m \u001b[39m1\u001b[39m:\n\u001b[1;32m--> <a href='file:///c%3A/Users/theot/anaconda3/envs/envSY/lib/site-packages/sklearn/utils/validation.py?line=768'>769</a>\u001b[0m         \u001b[39mraise\u001b[39;00m \u001b[39mValueError\u001b[39;00m(\n\u001b[0;32m    <a href='file:///c%3A/Users/theot/anaconda3/envs/envSY/lib/site-packages/sklearn/utils/validation.py?line=769'>770</a>\u001b[0m             \u001b[39m\"\u001b[39m\u001b[39mExpected 2D array, got 1D array instead:\u001b[39m\u001b[39m\\n\u001b[39;00m\u001b[39marray=\u001b[39m\u001b[39m{}\u001b[39;00m\u001b[39m.\u001b[39m\u001b[39m\\n\u001b[39;00m\u001b[39m\"\u001b[39m\n\u001b[0;32m    <a href='file:///c%3A/Users/theot/anaconda3/envs/envSY/lib/site-packages/sklearn/utils/validation.py?line=770'>771</a>\u001b[0m             \u001b[39m\"\u001b[39m\u001b[39mReshape your data either using array.reshape(-1, 1) if \u001b[39m\u001b[39m\"\u001b[39m\n\u001b[0;32m    <a href='file:///c%3A/Users/theot/anaconda3/envs/envSY/lib/site-packages/sklearn/utils/validation.py?line=771'>772</a>\u001b[0m             \u001b[39m\"\u001b[39m\u001b[39myour data has a single feature or array.reshape(1, -1) \u001b[39m\u001b[39m\"\u001b[39m\n\u001b[0;32m    <a href='file:///c%3A/Users/theot/anaconda3/envs/envSY/lib/site-packages/sklearn/utils/validation.py?line=772'>773</a>\u001b[0m             \u001b[39m\"\u001b[39m\u001b[39mif it contains a single sample.\u001b[39m\u001b[39m\"\u001b[39m\u001b[39m.\u001b[39mformat(array)\n\u001b[0;32m    <a href='file:///c%3A/Users/theot/anaconda3/envs/envSY/lib/site-packages/sklearn/utils/validation.py?line=773'>774</a>\u001b[0m         )\n\u001b[0;32m    <a href='file:///c%3A/Users/theot/anaconda3/envs/envSY/lib/site-packages/sklearn/utils/validation.py?line=775'>776</a>\u001b[0m \u001b[39m# make sure we actually converted to numeric:\u001b[39;00m\n\u001b[0;32m    <a href='file:///c%3A/Users/theot/anaconda3/envs/envSY/lib/site-packages/sklearn/utils/validation.py?line=776'>777</a>\u001b[0m \u001b[39mif\u001b[39;00m dtype_numeric \u001b[39mand\u001b[39;00m array\u001b[39m.\u001b[39mdtype\u001b[39m.\u001b[39mkind \u001b[39min\u001b[39;00m \u001b[39m\"\u001b[39m\u001b[39mOUSV\u001b[39m\u001b[39m\"\u001b[39m:\n",
      "\u001b[1;31mValueError\u001b[0m: Expected 2D array, got 1D array instead:\narray=[0.17609875 0.23298514 0.27868152 ... 0.02913939 0.03498776 0.032374  ].\nReshape your data either using array.reshape(-1, 1) if your data has a single feature or array.reshape(1, -1) if it contains a single sample."
     ]
    }
   ],
   "source": [
    "clf.predict(hog(rgb2gray(io.imread(\"train/images/pos/eco_pos/amagnero_pos_001_pos0_flipr_flipr.jpg\"))))"
   ]
  },
  {
   "cell_type": "markdown",
   "id": "5782a105",
   "metadata": {},
   "source": [
    "# Fonction de recouvrement"
   ]
  },
  {
   "cell_type": "code",
   "execution_count": 5,
   "id": "d8733220",
   "metadata": {},
   "outputs": [],
   "source": [
    "def IoU(i1,j1,h1,l1,i2,j2,h2,l2):\n",
    "    hgi = max(i1,i2)\n",
    "    hgj = max(j1,j2)\n",
    "    \n",
    "    hdj = min(j1+l1, j2+l2)\n",
    "    \n",
    "    bgi = min(i1+h1, i2+h2)\n",
    "    \n",
    "    aire1 = h1*l1\n",
    "    aire2 = h2*l2\n",
    "    \n",
    "    if ((hdj-hgj)<=0) or ((bgi-hgi)<=0):\n",
    "        airec = 0\n",
    "    else :\n",
    "        airec = (hdj-hgj)*(bgi-hgi)\n",
    "    \n",
    "    return(airec/(aire1+aire2-airec))"
   ]
  },
  {
   "cell_type": "markdown",
   "id": "eb0d2855",
   "metadata": {},
   "source": [
    "# Fonction récupérant les faux positifs du premier classifieur"
   ]
  },
  {
   "cell_type": "code",
   "execution_count": 43,
   "id": "8b08ca0f",
   "metadata": {},
   "outputs": [],
   "source": [
    "result_pos = []\n",
    "faux_pos = []\n",
    "\n",
    "for img in glob.glob(\"train/images/pos/*.jpg\"):\n",
    "    if os.path.exists(os.path.join('labels_csv',img[17:][:-4]+'.csv')) == True:\n",
    "        image = io.imread(img)\n",
    "        result_pos = fenetre_glissante(image,clf)\n",
    "        label = np.genfromtxt(os.path.join(\"C:/Users/user/Desktop/SY32/projet/labels_csv\",img[17:][:-4]+'.csv'), delimiter=\",\")\n",
    "        label = label.astype(\"int\")\n",
    "\n",
    "        if len(label.shape) == 1:\n",
    "            label = np.expand_dims(label, axis=0)\n",
    "\n",
    "        faux_pos_counter = 0\n",
    "\n",
    "        for pos in result_pos:\n",
    "            flag_pos = 0\n",
    "            for subrow in label :\n",
    "                recouvrement = IoU(subrow[0], subrow[1], subrow[2], subrow[3], pos[0], pos[1], pos[2], pos[3])\n",
    "                #if (recouvrement >= 0.5):\n",
    "                if (recouvrement >= 0.3):\n",
    "                    flag_pos = 1\n",
    "            if (flag_pos==0):\n",
    "                copy_pos = image[pos[0]:(pos[0]+pos[2]), pos[1]:(pos[1]+pos[3])]\n",
    "                copy_pos = resize(copy_pos, (50, 50), anti_aliasing=True)\n",
    "                plt.imsave(os.path.join('train/images/faux_pos2/',img[17:][:-4] +'_faux_pos_'+ str(faux_pos_counter) +'.jpg'), copy_pos)\n"
   ]
  },
  {
   "cell_type": "code",
   "execution_count": null,
   "id": "79926f93",
   "metadata": {},
   "outputs": [],
   "source": []
  }
 ],
 "metadata": {
  "interpreter": {
   "hash": "4ab2bb86bd45d5ae4368890fdc53c0579ae2e4beee00850566078193f2627f74"
  },
  "kernelspec": {
   "display_name": "Python 3.8.12 ('envSY')",
   "language": "python",
   "name": "python3"
  },
  "language_info": {
   "codemirror_mode": {
    "name": "ipython",
    "version": 3
   },
   "file_extension": ".py",
   "mimetype": "text/x-python",
   "name": "python",
   "nbconvert_exporter": "python",
   "pygments_lexer": "ipython3",
   "version": "3.8.12"
  }
 },
 "nbformat": 4,
 "nbformat_minor": 5
}
